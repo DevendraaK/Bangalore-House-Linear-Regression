{
  "nbformat": 4,
  "nbformat_minor": 0,
  "metadata": {
    "colab": {
      "name": "Tamil_tweets_nlp.ipynb",
      "provenance": [],
      "collapsed_sections": [],
      "authorship_tag": "ABX9TyOiIWuO2wTFFI5ugyELJFzk",
      "include_colab_link": true
    },
    "kernelspec": {
      "name": "python3",
      "display_name": "Python 3"
    },
    "language_info": {
      "name": "python"
    }
  },
  "cells": [
    {
      "cell_type": "markdown",
      "metadata": {
        "id": "view-in-github",
        "colab_type": "text"
      },
      "source": [
        "<a href=\"https://colab.research.google.com/github/DevendraaK/Bangalore-House-Linear-Regression/blob/main/Tamil_tweets_nlp.ipynb\" target=\"_parent\"><img src=\"https://colab.research.google.com/assets/colab-badge.svg\" alt=\"Open In Colab\"/></a>"
      ]
    },
    {
      "cell_type": "code",
      "metadata": {
        "id": "iNZywfdTox9i"
      },
      "source": [
        "import numpy as np   #Importing the libraries\n",
        "import matplotlib.pyplot as plt\n",
        "import pandas as pd\n"
      ],
      "execution_count": 1,
      "outputs": []
    },
    {
      "cell_type": "code",
      "metadata": {
        "colab": {
          "resources": {
            "http://localhost:8080/nbextensions/google.colab/files.js": {
              "data": "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",
              "ok": true,
              "headers": [
                [
                  "content-type",
                  "application/javascript"
                ]
              ],
              "status": 200,
              "status_text": ""
            }
          },
          "base_uri": "https://localhost:8080/",
          "height": 72
        },
        "id": "ct0mzNaFrOR9",
        "outputId": "ff10f543-dc5d-41ce-b969-2f75b1dbe65c"
      },
      "source": [
        "from google.colab import files\n",
        "data=files.upload()"
      ],
      "execution_count": 2,
      "outputs": [
        {
          "output_type": "display_data",
          "data": {
            "text/html": [
              "\n",
              "     <input type=\"file\" id=\"files-496cda0b-a512-4462-a157-07f8cc05371f\" name=\"files[]\" multiple disabled\n",
              "        style=\"border:none\" />\n",
              "     <output id=\"result-496cda0b-a512-4462-a157-07f8cc05371f\">\n",
              "      Upload widget is only available when the cell has been executed in the\n",
              "      current browser session. Please rerun this cell to enable.\n",
              "      </output>\n",
              "      <script src=\"/nbextensions/google.colab/files.js\"></script> "
            ],
            "text/plain": [
              "<IPython.core.display.HTML object>"
            ]
          },
          "metadata": {
            "tags": []
          }
        },
        {
          "output_type": "stream",
          "text": [
            "Saving TANGLISH.tsv to TANGLISH.tsv\n"
          ],
          "name": "stdout"
        }
      ]
    },
    {
      "cell_type": "code",
      "metadata": {
        "id": "WDcqIJY6rT4e"
      },
      "source": [
        "data=pd.read_csv('TANGLISH.tsv',delimiter='\\t')"
      ],
      "execution_count": 4,
      "outputs": []
    },
    {
      "cell_type": "code",
      "metadata": {
        "colab": {
          "base_uri": "https://localhost:8080/"
        },
        "id": "NxcokqiQraCV",
        "outputId": "0df68313-b83d-4322-9977-c0f80e2c4b4f"
      },
      "source": [
        "print(data)"
      ],
      "execution_count": 5,
      "outputs": [
        {
          "output_type": "stream",
          "text": [
            "                                                   text  category\n",
            "0      Daily likes & views pakka vanthavaga ellaruku...         1\n",
            "1      25 k dislikes ethuku da intha trailerku poi a...         0\n",
            "2                    #Lyca unna nenacha pavama iruku ya         0\n",
            "3               It looks like Hindi movie amitab bachan         1\n",
            "4      Thalaivarukku nejamavey vayasaagiduchu... siv...         1\n",
            "...                                                 ...       ...\n",
            "1255   Sappypathy Vijayamma bigilu ummpi get more di...         0\n",
            "1256                     Stylea erukana ha ha naturally         1\n",
            "1257              Style la irukana hahaha mass dialogue         0\n",
            "1258   Like for lokesh kanagaraj THALAPATHY 64 Director         0\n",
            "1259   Naa indha trailer 30 time paathuten pakka pak...         1\n",
            "\n",
            "[1260 rows x 2 columns]\n"
          ],
          "name": "stdout"
        }
      ]
    },
    {
      "cell_type": "code",
      "metadata": {
        "colab": {
          "base_uri": "https://localhost:8080/"
        },
        "id": "hEhI3ORtrwUz",
        "outputId": "1727707b-079b-42b3-9c7d-2cb0fb6a45bb"
      },
      "source": [
        "import re\n",
        "import nltk\n",
        "nltk.download('stopwords')\n",
        "from nltk.corpus import stopwords\n",
        "from nltk.stem.porter import PorterStemmer #stemming model is used for the process of stem eg if a sentence is \"I loved this\" in this case stem model will convert this to \"loved\" to \"love\",that will help us to predcting the result\n",
        "corpus=[]#IT WILL CONTAIN CLEAN REVIEWS FROM THE DATASET\n",
        "for i in range(0,1260):\n",
        "  review=re.sub('[^a-zA-Z]',' ',data['text'][i] )  #remove all puntuation\n",
        "  review=review.lower()\n",
        "  review=review.split()\n",
        "  ps=PorterStemmer()\n",
        "  review=[ps.stem(word) for word in review if not word in set(stopwords.words('english')) ]\n",
        "  review=' '.join(review)\n",
        "  corpus.append(review)\n",
        "\n",
        "\n"
      ],
      "execution_count": 10,
      "outputs": [
        {
          "output_type": "stream",
          "text": [
            "[nltk_data] Downloading package stopwords to /root/nltk_data...\n",
            "[nltk_data]   Package stopwords is already up-to-date!\n"
          ],
          "name": "stdout"
        }
      ]
    },
    {
      "cell_type": "code",
      "metadata": {
        "colab": {
          "base_uri": "https://localhost:8080/"
        },
        "id": "jtcuRETs0gfd",
        "outputId": "c97b8cb3-685f-4b25-8618-de581a1b5086"
      },
      "source": [
        "print(corpus)"
      ],
      "execution_count": 11,
      "outputs": [
        {
          "output_type": "stream",
          "text": [
            "['daili like view pakka vanthavaga ellarukum vanakkam', 'k dislik ethuku da intha trailerku poi apdi ungalukku entha trailer tha pidikum', 'lyca unna nenacha pavama iruku ya', 'look like hindi movi amitab bachan', 'thalaivarukku nejamavey vayasaagiduchu sivaji thalaivaroda peak', 'thala nu sollu thala nemirinthu nillu', 'pink origin version pathavikaluku trailer old maritha irukum pakathvigalukutha scene um new ah irukum', 'vera levelllllllllllll best shankar sir ur legend', 'h raja refer kandupudichavangalam like pannunga', 'massssss thalivaa vera level energi petta parak', 'nadakkadhu nadakkakoodathu nadakka vidamattaen expect line', 'nerkonda parvai continu day teater block buster movi ye like comment', 'r sijle energi solut pvt ltd r sijle com r r emi avail r chennai', 'hello youtub trent button softwar death ah', 'ultim star ajith kumar thala thala thala', 'unmaiya thala fana irrutha like poduga', 'thalaiva superstar rajinikanth number one mass hero', 'makkal selvan fan hit like', 'super star marana mass', 'sasikumar big fan like move', 'superstar rajnik fan hit like k like petta pongal pakka blockbust', 'siruthai siva apdiy director odadha vaangi madakku madakku nu kudi unnaku direct varudhaanu paapom', 'thala thala pesunaa anilu ammaiyan vjmaaa ku tharama sembavam irrukku daaaa anilu vick sorri kott pathi', 'yenapa hollywood movi madiri trailer iruku chiyan rock kalakitaru getup vera level', 'bgm vera level go hike ghibran', 'eppadina bigil trailera namma view reach aga koodadhu adh', 'vaa thaliva vaa thalaiva marana mass thailaiva fire wait thailva', 'final dialog oruthar meala visvasam katurathukaga ennorthara yen asinga paduthuringa', 'bro ellaarum like ethukunga vidaathinga creat pannunga fast', 'thala madhiri thuiya tamil pessi nadikka mudiuma thala tamilan da', '', 'yaarellam oct ku verithanama wait panreega hit like', 'thalapathi fan like thala ni vaa thala nanga erukkom', 'enna da trailer kannapundai madiri iruku', 'enathaku da dislik pannringa edhoda oru gethu trailer irukka vaipa illa', 'anil kunjunga romba kadharranga idharku ore theervu arali vedhaya sappuradhu dhan', 'agalathey paatu kku aprum vanthavanga like aa pottu viduunga nu comment panna vanthavanga oru like podunga', 'trailer semaaaaaaaa wait releas big screen', '', 'luv u karthik real fan made film', 'thala vera level ner konda paarvai', 'manitha kadavul ajith kumar kadhal mannan ajithkumar ultim star ajithkumar', 'daili intha trailer ah pakuravanga', 'super raa ya eriku trailer movi uk white', 'eanga chiyan vikaram yappo maa mass da', 'trailer nalla erukku pengal ku nadakkura kodumaiya eduthu solra kadhai sema thalapathi fan', 'vijay sethupathi anna bayangara mass said irukaru', 'final dialogu previou dialogu mass', 'happi diwali guysss vijay fan mean enjoy ur sarkar day', 'like vennum ennum narayaaa narayaaa narayaaa', 'valimai aana aamai inathin thailvan ajith kuthi punda mavan valga', 'sk anna nenga vera level aduthu aduthu munari poitairuking anna alway love u anna', 'hit like ithu onnu inga comment aa irukku', 'itna paisa bekar kar diya bu cell phone ka hi naatak dikha raha hai baaki kuch nahi hai', 'hour million view woww thalaivaaaa ipa vaanga da china pasangala', 'wait thala nerkonda parvai', 'rajini kanth sir fan like', 'guyzz night kulla view k like podanum speed upp dude', 'hero alreadi look like zero', 'rmba nerama k la mattum iruku thala mass view pakalanu patha ithu vera sathi pannuthu', 'mathavanga mari bandha katti nadikama karthulla padam choos panni nadikirau love u thala hat', 'trend singapor steadi la', 'father day special paarungu awar share pannungu', 'indhee oru padam poodhum thalaivaaaa naaan ungalee marupadiyum parthutheee', 'k dislik understand plese tell dislik person', 'wait kaappaan suriya fan like', 'thalaivar super star vera evarum kidaiyathu', 'asuren vettai arambam dhanush anna veriyan', 'one two la papanga vilayattu super star', 'trailer pathi edhana sollunga ya na poll vachi nadathuranunga indha fan boy like hu comment haam', 'get million like', 'ithu tamil nadu ella ithu enga thala nadu daa', 'epd unga combo vetri dhanush nala matum ipd realist kondu vara mudyuthu semmmma pa', 'kau kena tunggu lama lagi untuk tahu saya semm dialog pah', 'wowww amaiz bgm nammakita kaaadu iruntha eduthupanga kasu iruntha pudingikuruvanga padipa mattum eduthukav mudiyathu chithambaram superb', 'adichu underwear oda voda vitturuven', 'pakathana pora pongalugu inntha kalliyoda attatha', 'indha diwali kaidhi ku bigil visil podu', 'adutha vaaram thaan indha maanam ketta padathuku view varumnu nenaikiravanga like podunga', 'ithu vae ippadi na apa thalapathi', 'koja differ aana movi interest', 'oruthar meala viswasam katura naala inu oruthara yen asinga paduthuringa thala vera level', 'kola verithanam trailer award kandipa kedaikkun', 'rajini sankar ar rahman vera level intha combo kkaaga tharalaama paakalam', 'kola gaandula iruken mavan kollama vidamaten antha k dislik panninavangala', 'wtf manu gandhi ambedkar', 'kaasu kodhuthu vikku mudiya vangalam ana kaasu kodhuthu tholapathi enra titl vangalaama', 'viswasathuku sirappana tharamana sambavangalai ini thaan paarka poreenga', 'indha padam kandippa mokkaya irukum nu nenaikaravanga like podunga', 'time thalaivar trailer ah ku mela parthavanga like pannunga', 'min k view omg', 'thalaivaaaa ur one super star pettaaaaa marana maaaaasss fdf trichi', 'vikram look vera level make la pakumbotheya veriya irruku kasa thaniya vari erachi irrukanga pola trailer semma mass dha', 'therikka vda vantaanga thalaivar team', 'thala ajith kumar yuvan shankar raja h vinond uff', 'chiyan fan lam like button ah adichi thookunga paaklaamm', 'bgm nice onum solra maari illa', 'dr br ambedkar dialogu jai bheem', 'kgf chapter like kaithi like', 'trend omg woww love rajinikanth', 'nangalum kola kanda la irukom oda vidroma illayanu parru', 'g v p kumar music vera leval bgm', 'chiyan ninga fast furior lay nadikalam', 'million innum day kulla varanum friend keep watch', 'miratt ah irukku boss siva ann sema', 'dai kodi thevaiya intha movieku varumaiyil vazum eazakku seru potta la natu munnerum', 'dai pandey thala ya vey yethirthu pesuriya goyala theater pakkam varuvala va', 'vj anna voic ke naanelam adimainu solravanga oru like podunga', 'ethana padam vanthanu salt pepper mattum th l', 'namakku thevayandhu namaa dha adichu vanganum semma punch kill trailor dude', 'diehard fan chiyaan vikram', 'trailera fulla paakav porumai illay padam epdi irkumo', 'nerkonda parvai blue sattai maran review', 'next bigil movi ku wait pantravanga', 'trailer bangam talent film maker lokesh ganagaraj', 'theatr padam pakkanum solli veriyilla erikken evanavadu piraci solli net la padaththa vitta thalavaroda kolaveriyan mavan koluththama vidamatten', 'malayalam movi chindhamani kolak copi ajit vest', 'thala padama ithu koothi maari iruku trailer padam punda mathiri irukum pola', 'back youth rajini thalaiva marana mass', 'cant believ', 'appu ithu enna telegu padam matri iruku tamil padam yedugeda', 'thala thala thala thala thala thala thala thala', 'vijay fan dislik pottu oomba vandhutanga thayoli poitu unga amma shidhiya oombungada', 'blockbust like bahubali', 'ithula dislik panna ennada irukku enda ithana dislik', 'thalaivar masss ah irukarupa nu sonnavangala hit like', 'time pathavanga like podunga', 'thala tharisanam marana wait big screen', 'pakarathuku chinna paiyan maathiriya poi sonnalum oru nayam venamada', 'die hard fan ajithkumar hit like', 'sethupathi anna va innum konjam mass ah kaatirukalam padathoda edhiriparpu innum adhigama irundhirukum', 'thalaivar kolla kondula erukeo kollama vittamatto', 'siva mela viswasam kaaati yen yengala asinga paduthureeng thala climax vera level', 'dei ennada conair padatha kavuthi pota madiri iruku unga kaithi thiruttu payal lokesuh', 'remak pink class movi', 'zero better hit like agre', 'samaaaaaa damnnnnnnnnn vfx ah kora sonavanuga parugada ipa indha trailerah thalaiv dialog pah vera level', 'vera vera vera level thala top takker', 'ennada naduvula viswasam bgm pottu vachirukkinga', 'bhai hindi bhi ek mahin baad km se km releas kr diya kro', 'ithu padama illa pandaylaanirukaru news sa thalaki yaytha look illaya', 'tamil acter kerala star valu vijay surya rajani vikram dhanush vijay sethupathi ajith', 'manju warrier uh adhu na kuda anushka nu nenachen', 'ek build aur ek field pe hi puri film dikha diya lol', 'dhanush swag awseom nammaku thevaiyanathu naamatha aaduchu vaanganum', 'hollywood kaaranalatha mudiyumnu illa tamilanaalayum mudiyum da exampl shankar sir', 'thalapathi fan lokesh kanakaraj thalapathi', 'appudila nadakathu nadaka kudathu thala', 'jayam ravi anna fan', 'thala look vera level nice bgm u supar movi supar', 'petta semma super muni kanchana motion poster releas', 'superstar yaarunu karthik subburaj ta kaetu therinjukonga ba unga jaathi veriku en thalaivara bali aakathinga', 'thalaivaaaaa ur great vijay fan', 'padam kandipa thokuradhukana thagudhiyum pakkava iruku', 'ultim act thala ennna dialogu deliveri chanc eh ilaaa luv u thalaaaaaaaverrraaaa level', 'st trailer look stupid look dumb', 'ennda ithu appdiyea vada chennai mathiri trailer iruku', 'pandey va cinema kulla kondu vandhuteengala mass dha', 'wait war movi hit like', 'massssssssssss looooookkkk thalaaaaaa vera level', 'thala vera level kerala vijay fan', 'see movi see trailer hit like', 'first view first like selvam', 'kala pathamadhiri irukku solra alavukku illa', 'sens ami jackson villain', 'hat dhanush sir sirantha nadipu padipu mattuma oru nabarai uyaruthum', 'marana mass muchcha anilu ammaiyan vjmaaa ummah sollu hahaha', 'petta la thalaivar total differ ta irukukaaru act um thaaan sirapu sambhavam thirkaaka wait', 'hit like nu picha edukathavanga like pannunga', 'maaasss thalaiva unna vitta vera yaaralum intha act varathu unga style paakav time movi paaka varlam', 'vada chennai mari irukkum jolli', 'ippadi neraya neraya neraya manda fulla narachu pochu idula punchu vera lvl trailer', 'asuran climax la dhanush soldra dialogu ah arjun modifi panni sonna maadri yennaku mattum dha thonnuda', 'vera level vfx kill', 'thalavia neenga veera level boss neega thaan marana mass', 'cool old rajni return', 'super star fan kerala like', 'neraya neraya neraya vaaila tha kudukanum', 'boom boom robo da robo da', 'lot love karnataka hit like karthi fan', 'like varuma hit', 'vayasuku thagundha savagasam illa ivaruku fun thalaivar massssss', 'mokka mokka mokka trailer fan', 'dai ajith kelatu naay intha madri film nee panit vantha ommala kamal hassan madri neeyum kaanama poiduva da', 'verum buildup um bgm um vachi hitu kodukuravanga mathiyila indhamaaari oru movi kodutha vetrimaran sir ku hattsoff dhanush sir act worth watch', 'paakradhuku chinna paiyan maari style ah irukeenga true', 'yuvan shankar raja fan', 'thala thalaa masss fan karnataka', 'thalaiva fan kerala', 'thalaivaaaaaaa yen kadavulaaaeess proud ur fan', 'next time teacer edhir parkura angali pangalinga comment pannunga nama trailerk gethu katrom tecera irundha', 'nanga oruthan kittah matikittu irukom avan yeanatha pannah porano', 'ennada kaila laddu kuduthutu trailer la jilebi pichi potrukingaa oruvelai pink movi kooda ippadi dhaa irukumoo', 'petta viswasam old stori like veeram', 'see prakash raj long time', 'ajitj lawyer first time', 'neraya neraya neraya neraya neraya neraya', 'vera level la erukku trailer stunt pathi solla varthaiy ila ba', 'thalaivaaa last la andha danc semma', 'trailer la nala iruku ana sivaku match agala', 'enna thalaivar trailer ivlo nal kaluchu trend varuthu', 'like trailer hindi kab aayegi', 'yuvan bgm semaya iruku romba naal kalichu thala kuda join panadhu romba happi iruku', 'chiyaan vikram sir fan love ajith kumar sir', 'look like bigil footbal stadium', 'telangana jai rajini jai thalaiva', 'apdiy aaluma doluma song paathutu adhuku oru like podunga', 'dhanush vetrimaaran innum ethana padam sernthu pannaalum elaama sorgam thaan cinema lover ku', 'ajith last aha sonna varthai mattum supprrr', 'dhanush anna fan mattum like panega', 'pink movi se jyada maza aayega reason thala', 'sk anna mass like anna marana wait', 'trailer kidu appo padam kandechu varaam thala', 'badli wait movi', 'ajith fan like kaithi', 'thalaivar oda dialogu vera lvl', 'chindamani kolacas movi orma vannavark ivid like adikkam', 'atleast indha super hero padamachu makkal support panuvaanganu nenaikuren sk atmost best alwayss masss', 'ciyaan vikram love', 'apadila nadakathu nadakoodathu line woman super thala', 'gibran vera level', 'kola gaandla irukan mavana kollama vida maattan', 'k like away pass vivegam trailer like', 'thala thala tamil naatuku ore thala', 'wait see vekkai novel real version', 'super maass movi love thalaivar', 'million like varala thala fan like podunga', 'orutharu mela katura viswasthuku enoruthara en asinga paduthuringa thala power dialogu', 'mokka padama irukalam may ajith kaga hit agalam', 'allam ok super trailer mokkay', 'kena tunggu lebih lama lagi untuk tahu saya mean need wait understand', 'singa thoda mudi narajita ade singa illan aidada', 'vera level anna marana wait', 'idhu dhan ya unmaiya na verithanam', 'superstar sankar combin alway pakka', 'varudam ivar naarkalii ku aaasaipaadatha aatkal ilaai indru varikum', 'come dude come dude', 'pink remak tamil la nalla illa thala thairiyama diwalikku vaa', 'enga thala thaanda eppavum gethu meethi ellaarum vethu', 'never put ur phone airplan mode', 'mass thalaivar ah nijama chinna paiyana pakra maari eruku ath style ath rajini', 'thatta da aamai porumaiya poittu irukku innum oru naal aagum view ku', 'last la vara black dress pa chancey illa', 'get pink movi', 'apdiy poiru kola kandula irukan mass thalaivasweet sapda poro', 'ithu rajini padam ithu thaan rajini padam', 'neraya neraya neraya veri yethuraruba namba thala phaa suma odambu pullarichiruchi', 'ithupol trailerum kand poyatha saaho kanan sadhikkaruth setta cash kalayan illathond', 'summa marana mass trailer mirattala irukku excel', 'dhanush anna fan hit like', 'sweet sapda porom apram sugar mathira sapda porom', 'sweet sapda poromnu unga kelavan sonnan paarthu sugar vanthu sethuraama', 'yarellam teejay ah vaa pathu excit aanginga', 'apdilam nadakkathuthu nadakka koodathu', 'oruthar mela viswasam katta mass thala', 'yanda pasangala chi pongada nengalum cinemavum unga ennam ci', 'yo ghibran ennaya epdi bgm podura', 'marana wait thalaivaaa', 'simran enabha trishava katlum younga iruku wow', 'thalapathi rasigana dhanush ku oru like', 'enna da inum kuda varla', 'thalaiva idh podhu thalaiva pongal varaikum thaangum', 'make milion view', 'dei ennada conair padatha kavuthi pota madiri iruku unga kaithi r thiruttu payal lokesuh', 'hit like u see mahath', 'ajith sir carrierlay idhu vidhyasamaana padamnu solravanga cmt pannunga', 'vara level thala luv u much thala', 'wait movi', 'cmnt hit like cmnt romba mosam da dei', 'thangam nee sonna sari solluti sellam', 'pl dub kannada ea trailer tumba tumba channagid jai hindustan', 'vayasuanalum style um alagum maraveillahh thalaivaaa hat', 'dai ithu velayutham padam da yaara yeamaathringa', 'thalaivar padam day show pakkuravanga like pannunga', 'ealam ok bgm engayo ketamariy iruku', 'neraya neraya neraya hear ti sapadu nyabagam vandhuruchi', 'yaaro oru group padam flop dhan konja naalu ku munadi koovitu irundhanga avanga laam konjam line la vanga', 'seenu odabuku agathu thambi mukkunalum thalapathi pola varathu', 'semma mokka idellam oru padam edukurawanauku adikanam seruppala', 'first like button vijay setupati fan', 'adichu pudichu mutti modhi munnukku varathuna ethuthan trend', 'ippo yenna panna porom suweet sapida poram', 'kid love vijaysethupathi', 'gommala flopu daa poi elarum asooth poola oombunga', 'pakka thane pore indha kaali ude aattathethalaivar rok', 'ghibran way go man', 'vijay anna fan amaz semma thala sir', 'last dialogu ok naadagamaari irukku trailer', 'k view k like awesom', 'wait panathuku sema waita vara poguthu pola trailor ayooo sema mass creater shankarji', 'view ya allah ya allah', 'makkalselvanfan sir like telangana hyd', 'thala thala thala thala thala thala thala thala thala thala thala thala masssssss', 'bgm sema thala oada express', 'swag rajini rajini', 'ayyayooo thala goosebump ethir paakav illa', 'petta pongal jan ku semma wait thalaiva', 'ajith sir ra pidikkathavanga dislik pannuvanga athu padam nella irruthalum nella illattium', 'lip sync kalyani agre', 'iyoooooo mudilaya wait ub eppo intha padatha papanoooo thalaivar thalaivar ya', 'thalaivar wow padayappa dialogu inga podungaya purinjavan like ah podu fdf', 'innum hour la like varanum thala blood', 'dai thevidiya bullay niranjan soorappan unaku theriuma peasatha da badu yen komavula erukiya da thevidiya baiya', 'vera level oruthar mela viswasam kata innorutara yen asinga paduthireenga', 'shankar sir aveng trailer patha pola irukku hollywood rangekku irukku superoooo super sir varthay illa vera level sir', 'thalaiva super vazhdukk sangkar sir team', 'padam releas agurakul like view k comment conduvaranu', 'nalaiku thala ya pakaporom marana wait thalapathi fan', 'yeh blockbust hone wala hai pakkka yaad kr lo', 'sathiyama soldran ivarku vasaya agala ena oru energi age', 'draw kaithi karthi', 'sirappana tharamaana sambavangala pongal ku dha paaka poringa varardhu thalaivaru petta paraakk', 'hotspot pannunga da trailer paaka mudila net slow ahh iruku', 'jithu kaha wait pandravanga hit like', 'view varava innum oru vaaram aagum pola ha ha vandu muruganukku vandha sodhanai', 'srilanka trend thala super', 'ennappa ponagakuku releas panrentu januari releas date solreenga', 'trailer na ippadi irukkanum enna mass', 'seri kadaisiya varrathu rajiniyaa illa ms baskar aah', 'viswasam vs petta viswasam like petta comment', 'intha movi sk career la ramba import ana movi ah irukumnu nenaikaravanga oru like podunga', 'nellai chiyaan vikram veriyarg vara level thalaiva chiyaan vikram write movi', 'pakka thana pora intha kaali oda aattatha thalivar vera level one super one', 'padam pathavanga like pannunga sema movi', 'like vikram love vikram semma mass thala', 'think vaseegaran die movi', 'nenga sonna varthaiga wait pandrom thala ungala mari amaidhiyaaaaaaaaaaaaaaa', 'vera level trailler hit like trailler', 'vera level trailer marana wait movi ku', 'action king arjun fan like', 'oo thookudurai ipo lawyer ra seri seri director siva illa apo padam nalla dha irukum trruku thakida trruku thakida', 'dialogu oruthar mela irukra viswasthukaga inoruthara yen asinga paduthuringa thala special yuvan', 'bangam semmaya irukku hit aaga vaazhthuk', 'thalaiva vaa thalaiva get rajinifi semma wow', 'karthi anna fan like fan karthi anna like', 'come felt like sivakarthikeyan mass ka bap rajani sir', 'ulaga sarithira nayagan dhanush rasikan da', 'sahoo pada titil slogan ah suturukang', 'expect pannadhu da kamiya thaan irruku', 'goosebump scene masss kattuvaaru karthi', 'ellathukkum padam edukkuringaleh sir kudikkira appakalala avashttha padura pettha ponnunga avashttha paduratha ea oru padama edukka mattakkuringa', 'enaku vijay putikathu anaa vijay sethupathi ya thavira evanayum putikathu massss vs', 'gv prakash phhhhh bgm vera level thalaivaaaaaaaaaaa', 'en da movi name sangatamilan titlecardlaya vijaya movi hindila varuthu da raaaa', 'chitti reload version', 'enna da onnum puriyala enna da nadakkuthu', 'thala yuvan mega mass', 'vikram best hi hogi', 'varusham ula iruntha thana sir theriyum athuku munadi ena panitu irunthanu theriyathula', 'purinchukkanga bosss oruthar mela visawasam katta inooruvarai asinkapadutateenga thalay sollittar', 'dhanush vetrimaran vera inna venum padam blockbusternu solrathuku asuran', 'goosebump awesom look', 'ayyyoooooo thalaivaaaa final scene semmmmaaaa love u', 'john wick tamil remak mari iruku', 'wait big screen thalaivaaaaa', 'pink movi remak amitabh tapse pannu remak', 'somehow look like telugu sri mahalaxmi movi', 'pubg la loot adikravana sudra mathri irukuj', 'verithanathuku maru peyar thalaivar hit like thalaivar verian', 'thalaivaaa thank karthik sir gv us old rajinikanth', 'big thala fan thala kita irrukura hardwork dedic ella chiyan vikram sir kitta avara romba pidikum', 'u bgm vera leval thala masss', 'ennpa g v nkp bgm manasula vanthutu pokuthu', 'thala unna ippdi patthu evola nall aachu', 'superb shankar super star rock', 'pink tapse panu big b', 'kamal kaga ellam illa chiyan chiyan vikram', 'ada kilada vayasuku kondu vanthutaanga', 'vere level ultim star', 'dislik panavangaluku last la varum dialogu dan correct', 'congrat vikram sir suriya fan', 'enaku enamoo doubt ah dhan eruku', 'thala thala dhan paa', 'bigil bigil bigil bigil bigil', 'super movi kamala kalasa samma', 'thala fan enti activ ga leru', 'antha paiyanugu payam illa pollathavan aruran', 'avara control pannunga pl evan vanthalum mudiyathu', 'idhu madhiri innu neraya neraya neraya maass kaatuvaru enga thala', 'awesom trailer bro final dialogu saaguradhaa irundhaalum sandai pottu saganum', 'aug varaikum wait panna mudiyathunu ninaikiravanga oru like podunga', 'trailer wait super star', 'kk kadaaram kondan chiyan mass', 'vera leval sk fan', 'semma chiyaana kannukku kulurchchiya paaththen chiyaan', 'yethana peruku christian bale neyabagam vandadhu', 'kettukanga thala fan oruthar mela katra visuvasathula matha vangala kevala paduthathinga', 'tribut support us shankar sir rajani sir', 'yen manathuku ethamaga erukum song vaanil irul soolum pothu', 'ayyo thalaiva kolriy ummmmmmma love thalaiva', 'ayiram varatum ulagam sutrum vaaliban mari varathu', 'antha aalu ethai thottaalum vetri super star', 'thank karthick subbaraj kalakitinga thalapathi movi la thalaivar patha mathri iruku', 'ennada ithu marana masssss ah iruku', 'wait petta peranbu mammookka rajini thalapathi', 'bgm marana mass dhanush fan like panunga', 'inniki trailer pakravanga like pottu ponga', 'vera level teaser u bgm semma', 'awesom look like hollywood trailer', 'podra vediya deepavali ku oru karumathi irukku', 'ithaiyum di like panna epdi da manasu varathu', 'kadavul tharisanamlov u thala', 'ena ya trailer ke certif kudukanum pola iruk', 'oruthar mela irukkura viswasathila aduthavara ean asinga paduthireenga sema sema thala', 'thala u combo mass', 'thaa eduthu vainga da adutha nation award ah', 'thalapathi fan ah soldrean kandippah nation award win pannum', 'vera leval wait thalaivaaaaa', 'thank karthick subhuraj sir thalaivar vichi kallakitinga mass marana mass', 'rajini turn akshay', 'wowwwwwwwwwwwww danush annaaaaaaa love u much', 'intha padam aachum vj ku hit agatum valthuk bro', 'rajini sir shankar akshay kumar sir hat vyara level', 'kusuvasam fan hit like button', 'thalaivaaaaaaaaaaaa namaku thevayaadha nama dhan adichi pudunganum thalaivaaaaaaaa verithanammmmm', 'bahubali record signal shankar daww rajini daww arr dawww vfx daww old alway gold', 'ajith fan last dialogu ungaluku', 'thalai kaaga wait pannavanga like podunga', 'movieku evlo per wait panrega', 'trend nerkonda paarvai sahoo', 'wow wow wow awesom', 'thala mass look podra vediya vetra cakeaaaaaaaaa pl veri eruthu da thalaya pathathum', 'santhosh narayan music pottu iruntha innum nalla irunthu irukum', 'ohhh aaa telugu remak ravi teja bengal tiger', 'asuran padam pathavanga like podunga next big screen bigil', 'shankar sir ungaloda imagin vera level cg ok', 'best chiyan wait kadaram kondan wish kerala suriya fan', 'inum neraya neraya neraya neraya neraya like view varanum', 'bigiil mokka padam kaithii awesom', 'sirapana tharamana sambavam la intha padathula dha iruku everi scene goosebump', 'lena n vikram kidu combin wait', 'evanda dislik pottan paithiya karan stupid', 'ithu vera mathri padam masala padam illa thala luv thala', 'like game trailer p', 'kajal fan subscrib', 'thala block buster movi viswasam nkp', 'vetri maran thalaiva neenga eduthal vetri thannnnnnnn', 'idhu hollywood madhiri irukunu solravangalan indha cmnt ta like pannunga', 'trailer na athu ethu', 'mani mani mani mani mani', 'indha movi la edho oru periya messag irukku super', 'end la teaser bgm la vara end vacha inum mass irkum', 'wowww thalaivaa kalakitega sure pongal winner dhan neenga', 'yarellam padam paarthaachu arputhamaana padam miss', 'innum naraya naraya naraya naraya thadava pakkanum', 'thalaiva aaaaaaa final seen mine god', 'super style thalaivaa neenga vera level', 'rajni turn akki last', 'neenga vilayaadunathu engita illa eman kitta chiyaan rock', 'thalaiva look good even semm', 'unoffici sequel vada chennai note vada chennai vetrimaaran dawww', 'semmma super chanc ila', 'rajini sir fan hit like', 'engin aaganum miss athalaaaam oru kaalam', 'next aadukalam load ha', 'innaiku nightu theriyum yaaru weightuu nu kalathula sandhipom visawasiiii', 'eppa kutti moonji best unakenna pa big screen le la varuva naanga apdiya', 'enna ba netflix web seri maari feel aaguthu', 'ipdi neraya neraya neraya padam nadikanum thala nee', 'super star super film', 'savaratha iruntha kuda sanda pottu savanu sir payanthu kalla vilunthira kudathu karthi back action', 'cmt enna fan da sami thala vera tha', 'k view k like view stuck', 'unakennapa sivakarthikeyan koodalam nadula naangalam apdiya', 'best thalaivar rajinikanth sir malayalam superstar prithviraj sukumaran fan', 'telugu fan need thalaiva peta telugu trailer', 'kaasa micham panna paatha sathiyama music nalla irukkadhu', 'wa ng', 'feel vintag thalaivar annamalai arunach basha padaiyapa elathiyum sethu vechu paakura matiri iruku sema anyon feel', 'pakkaa mass rajni akshay sema miratt', 'neraya neraya nerayaaaaaaa peru wait thala', 'trailer lam nalla pa iruku unkita finish sari illay pa', 'epo enna panna porom sweat sapda porom', 'kolakandla irruka pudichavanga like', 'last second music video vera levellll gv da', 'daili um least one time achum trailer eh pakuravanga like podunga', 'sama dailogu namaloda padipa mattum yevanalayum yeduka mudiyathu', 'gate open sceen like rajini first movi yarulam gavanichinga', 'va thala vaaa orthar mela visuvasam katturathukaga innoruthara yan acigam paduthuriga ogga nikiraru yanga thala', 'mmmm ok super', 'worst trailer ever bsdk ye kya hain haaaaaaaaaaat', 'chinna payyan mathiri stylaa irukk love kerala', 'adei ivar pesaura ella dailogu um kusuvasam ku daan dedic pola', 'tee jay va paathingala va ji va ji unakkudha wait ji dhanush ku da movi ya', 'last dialogu thala thalapathi rendu perukkum tha thala pesirukkaru', 'want see ajak mama underwear', 'thala na mass mathavanga ellam thala munnadi duss', 'thala alway thala dha da', 'oruthar mela irruka viswasathukka mathavangala en asinga paduthiringa thala thala thala', 'othaaaaa maranama daaa yeppaaaaaaa veraaaa level yaaaa namma diwali kaithii', 'thala thalabathi avanga fan ku solla asapadradhu ithu thaan piurinjukonga da deiii', 'thalaivaaaaa vayasilayum padam nadikkuradhu satharanamana vishayam illa super star rajini legend india cinemavin pokkisham', 'kolai gandula iruken kollama vida maten wat mass n stylish man yar', 'part venum ngravanga like pannunga', 'mass massa tamil cinima hollywood level vara level shankar rajinikhanth tamilandaaaa', 'evan vanthalum inth pongaluku naagethanda hit like u agre', 'appa oru vazhiya thrisa n simran kooda jodi pottaachi', 'ama vadivela en da asingam paduthuringa', 'super super super super super super', 'maranam maranam maranam maranam maranam maranam maranam maranam maranam', 'rang rajan sir mmm super enga thalakuda wow', 'thalaiva coollip ah thuppitu pesu thalaiva vasanama puriyala', 'shankar sir evanavthu katha enodathunu solli varuvan care sir', 'na vijay fan irunthalum ajithuku likoooooooooooooooooo like', 'thala look yeh vera maaari irukku', 'bit like aveng age ultron', 'dei enra ithu', 'hollywood movi eh tuff kudikum poliea indha movi', 'wait king bgm u yuvan shankar raja', 'thala mass yuvan bgm mass', '', 'chitti vs chittu kuruvi stori', 'oruthar mela viswasam kaaturatgukku innoruthara yen asinga paduthuringa', 'pink movi remak nice one', 'ithuku thaana sivakumar cell phone thatti vittaru', 'suyama sinthika therinjavan tha super hero', 'paravala etho teaser oda trailer pakkala time', 'graphic sari illa nu solrathukun oru gang suthum parunga', 'nerkonda paarvai trailer version', 'millon like kaga wait pandra', 'ena pa ipdi iruku vera level', 'thala pesina samaya iruku thala thala thaan', 'vayasaanaalum style apdiy iruku ya wow sema', 'thala semma semma congratul kanyakumari simbu fan', 'yea movi hindi nehi aye', 'maranam massu maranam toughu tharanaum adhuku avan dhaan porandhu varum semma thalaivaa', 'headphon la yuvan bgm summa therikkuthu yuvan bgm vera level', 'thala mass bgm mass maran mass', 'favorit hero thala biggest movi god bless', 'thala ajith kumar tamil cinema mass', 'ajithu vijay vanthalum rajini ya onum panamutiyathula one supar one rajini', 'ivuru ippathaan oru nalla padathula nadikararrunnu nenaikareen', 'tamil cinema va vittu velila vanthu edungada', 'thalana summa va vera evanukum setagaathu', 'moka ivana yevan padam nadaika sonnan', 'petta k like viswasam like', 'gonna see vera level thala', 'kaali come hit like u kaali veriaan', 'vera maathiriyaana thala padathuku marana wait', 'dae ennangada nana time mela paathuta view koodava maatudhu zee music south correcta view like podungada', 'tamil rocker irukka payam yen talaiva pathudum athula padatha mb', 'unakkennappa kutti moonji second', 'vijay fan like thala much sama masa irukku', 'pink hindi movi remak da yea thala eppidi pannitinga', 'dai yeppa samii vivegam la vachaaa madri twist vachiradingaa da thalaaa ooir rasigan da', 'rajini appa unga stylukku innnnnnnaaaa kuratcha ever stylish one beat style', 'ennaku oru sandeham trailer paatha katha therinja great ahhh illa spend panna amount therinja great ahhh', 'karnataka ajith boss fan', 'super star maaa', 'super hit trailer small fan love pakistan vikram sir fan hit like', 'ajith veeram padam madhiri irukku', 'verithanam bgm g v', 'innaki kaalaila endhichadhum inga vandhavan yaru', 'tha trailer na ipdi irukkanum anga oru mini jukebox ah releas pannitu trailer nu mokka poduraanga', 'thalaya control panna yaralom modiyathu thala massss', 'look like telugu movi rangasthalam', 'like ku wait pandravanga oru like eh podunga', 'review pathutu vanthavanga yarrellam august ku wait bharath subramanian entri thala name nkp', 'rajni kant sir k fan like', 'pangaaligala intha vegam patthathu innum vegama view ah therika vidunka', 'pink remak mass pandrenu padatta mokkaya akam iruntha seri best', 'oruthar mela viswasam kaatrathukkaga innoruthara yen asinga paduthuringa thala thalabathi fan fight', 'dei ennada sukran padam mari eduthu vechutukenga', 'pink ka remak lg rha h', 'good feel like robot someth miss', 'bgm vera leavel marana wet', 'sard dard ho gya h need watch badhai ho', 'ennaku therinju intha padam vuthikum avolo nala movi moga mudiy odala', 'kartik film super telangana', 'verithanam ah irukku wait fdf thatra like ah', 'namba kita irunthu padhipa mathum edhuka mudhiyathu', 'pink la fight lam varaliya aana idhala fight', 'niz vera leval trailer supper edit supper', 'naan video paakamay like potutenlik pota hr kalichu ipo dhan trailer full ah paakurenthala masss', 'thalivaaa nee vera level padam parakum', 'ayoo thalaiva un nadippukku thala vananguren', 'like kaithi cmnt bigil indha maari cmnt paatha skip panidunga pa', 'amaz indian tamil cenima shankar supperstar ar rahman marana wait', 'vada channei oda super ra erukum', 'rajini sir happi diwali folk nu solittu shoot panna vera levelah irukkum enthiranla sonna mathiri', 'mass trailer makkal selvan vj rock', 'chiyaan ppha pichuteenga pakkamass goosebump', 'love rajinikanth sir super star', 'anga padraa anga padraa thala enna argument panraruuu', 'yaru time mela pathathu like podunga', 'thalaiva nee vaa thalaiva pongal unaguthaa pakka celebr thalaivar parakh', 'yaaru rajinikanth fan oru like podunga', 'nan yen murugan god va da nu solluvan ana unkala sollamudila thala anna yen nenga yaru yengaluku', 'thooku oru bhooku nii va thalaivaa pongal nambalathu thaa', 'sir pleas cinema ni telugu lo dub chesi releas cheyandi pleas sir', 'like varumnu solravanga like podunga', 'petta vs viswasam win petta na like pannunga viswasam na comment pannunga', 'thalaivaa verithanama iruku dec', 'yethuku gv nerkonda parvai theme potu irukuraru', 'gentleman hero', 'start end vara pramandam paaaa', 'bother k dislik alway terror k rock thala like oruthar mela neenga vishvasam katruthukaga innoruthra yen ashinga paduthiringa', 'vera level thala marana mass thala wait', 'naal aana pirakum semma mass pokuthu nkp trailer bigil ootharathu romba difficult', 'indha cgi ku thaan cr selavu panneengala', 'vetrimaaran dhanush gv', 'vikram fanzz kamal sir fanzz vanthu ennoda channelila red button click pannk', 'marana masssssssssssssss eanga thalaivar yaru vayasu ayeduchu mavena parunga enga marana masssssssssssssss eanga thalaivar', 'ellam super dhaan name card laam thamizh la podamatingala karthicksubburaj', 'enaya pandrika thala trailer view ha low va iruku', 'thevadiya luku porantha pundachi magan tha dislik kudikuran dislik ku porantha paiyagula', 'hit like rajni sir akki sir', 'trailer vera level especi bgm ipovachum othukonga veeram vivegam ellam kuppa padam nu', 'thalaivar darpar marana wait simbu veriyan str', 'adai last shot ena da ipdi iruku ulti', 'k like ah podunga thala blood varaum', 'rajni style engeyum pokamatt makayali thalaivar fan', 'tapse pannu yave vechu eduthu irundha nalla irundukko pink movi hindi', 'comment laan padika rmba happi ah irukuuu thalaivaaaaaaaaa marana wait', 'thalaivaaa vera level pannitinga ponga', 'ennada dislik stuck aguthu kett kalvi nalarukkaaa', 'entha padathuku wait panuratha vida blue satai maran reviewku wait panuran', 'daili vanthu view like check panravan oru like pottu po thala', 'ajith fan viswasam da rajini fan petta da vijay fan yadhu paesrusunu adichi kammi da', 'kerala trend make first', 'seem mokka moiv', 'kaithi ivla spr airukk thalapathi yevla mass airukku nenatchu parng', 'suyama sintikka therinjavan super hero', 'pongal ku sirappaana tharamaana sweet saapada porom pola', 'yaarlam viswasam trailer paathittu vandhavanga like podunga', 'enaku ennamo entha movi dipawali theriga vida pokuthunu ninaikiran', 'india biggest movi india biggest star super star rajini kanth super star akshay kumar', 'die hard thala fan hit like', 'k dislik thaa ungalukku ellam puli maari padam daan da pudikkum', 'rightuuu yuvan oda aaga sirandha sambavam kaathirukku', 'entha movi ku award kodutha nalla irukum ellarum avaga avaga charact valthu nadichu irukaga valthuk ellarukum', 'time mela paathavaka like pannuka', 'podu thakida thakida trend', 'want vj scene petta', 'connect maari petta maari dhanush son name kali', 'mass mass mass mass mass mass', 'yaarellam padam paatha aprom trailer paakura', 'ek dum tatti trailer bilkul billi ne haga hoo patla wala waisi gandu log ye chatn bhi jayeng', 'evlo periya padam ah irundhalum tr ku mb dhan', 'jai thalaiva love rajini sir fan', 'vegama ponum na tailor ivlo vegama poguthu', 'thala die hard fan hit like', 'ipdi oru rajini film tha expect panninom ellarum naanga expect pannina pazhaya rajini', 'periyar selai thiruvalluvar selai ellam udainga da anna sithanthatha', 'view soon hit like agre', 'petta viswasam rendu movieum success aaga vaalthuk', 'action movi chiyaan sir super', 'peru onn pothu mgr sivaji rajini kamal vikram surya vj nu emblem irukkum', 'enada trailer vidra tha pathi oru pechum illa nkp mass', 'thalapathi veriyan asuran trailer kola mass vertimaran marana mass', 'enna manusanya act parthal pullarikkuthu danish fan srilanka', 'shankar kalakittaru ila ila merattitaru diwali ku releas panni irukkala diwali good movi releas', 'omg thalaaaaaaaaaaaaaaaaaaaa love much', 'andhar panita thala un uyir naadi naan', 'super star rajini mass shankar team good work', 'k like lakh like come guy', 'yuvan arjun sir trademark dialogu dai thearikk', 'rajani fan da sethu pathi hart da', 'love thala verra level', 'dislik podura alavaku intha trailer yathum illa', 'thalaiva love much semmaaaaaa', 'hit like like hit', 'marana wait malasiya thala fan', 'asuran mega blockbust ilaya superstar dhanush', 'marana mass love u thalaivaaaa', 'frndzzz video share panna venam link matti share pannunga bro', 'pandey nee enaa da indha pakkam', 'evlo tha asinga pattalum great da neenga', 'bgm super vetrimaran movi na vera levela padam irukum', 'anil dislik school la irundhu vandhutu irukunga', 'trailer ah nerya nerya nerya nerya nerya thadava paathavanga like podunga', 'dei yaarra andha k hater ungala paatha sirippu dhan varudhu thalaivar promot god level petta parrrraaaaak', 'start eh vetri maran flavor teridhu', 'k dislik till engada irundhu varinga neenga ellam', 'commerci padam kandippa blockbust thaan', 'gv prakash nee vaaya music director ah ungala romba miss pandren', 'saaho view le aamai odittu irukku innum', 'rajini surya mutual fan hit like', 'bgm vera level sam cs nee vera level vara pora', 'ennaa style ennna mass thalaiv vera level petta pongal parak', 'bhigil pan kaithi sunniya pudichi umbung da', 'twitter la trend la therikaa vidrom', 'dei dummi sk pan trailer na ippadi irukanum da', 'tharamana padam pola ok apana next lokesh movi thalapathi solav vendam', 'director thalapathi gangster padamaa podunga', 'innum ippadiy padatha patth katthitorngada paithiyakarangala', 'vijay fan super thala', 'peta realis kannada languag', 'viswasam ner konda parvai famili audion pidichidaru thala', 'god want pongal asap rajini sir', 'u bgm pudichavanga like pannunga', 'u u u u bgm king', 'time patavanga oru like ka podunga', 'sk fan see like', 'palaya thalaivara pakra maari irukunu solravanga mattum like pannunga', 'enapa gangster padam nu nenacha clg student protest old age love scene la katrenga kabali mader la irukadea', 'visvasam trailer parugga semmaya irukku like podugga', 'evan eval dislik panathu avanka ellarukum subject arrear varum', 'rajni pakka maaaassssssss vera level maaaasssooo maaassssssssssssss', 'love u god rajni sir', 'villainkuuu mass dialogu irrundha padam hit uu', 'thala vinoth combo sema mass nu soldravanga oru like podunga', 'like paaka apopo varravanga like ah podunga', 'hater tommorow even sambavam irukku kaathirunga', 'super boss karathik subaraja film super hit', 'remak hindi movi pink ajith amitabh role', 'yeah film hindi main aayega kya', 'srilankan vijay sethupathi fan hit like', 'b g mega hit', 'kelagad ashtu jana idru mel heng band masterpiec dialogu yash', 'awesom shankar sir standard like hollywood movi superb', 'hindi trailer', 'marana mass petta trailer pongal petta paraak', 'kalla kabali kalli petta', 'oruthar mela neenga viswasam kaatradhu kaaga innoruthara yen asinga paduthirunga', 'kannadigaa u r big fan sir', 'movi kandipa kaevalama tha erukuminu trailorlaya theriyuthu', 'kutti moonji vivek intha movi la irukaaraa illa enakku mattum trailer la irukkura maathiri thonuthaa', 'pink hindi movi maadri teriyidh', 'thala thala thala thala thala thala thala thala thala thala thala thala', 'thalai viduthali paaradaw like tone', 'k view k like kdislik', 'ye kya raita bana diya bhai iss achha anim movi bana dete', 'perfect dialogu oruthar mela neenga kaatra visvathukkaaga inoruthara yen asinga paduthringa thalaaa va thala vaaa thala vaa thalaaa', 'sirappu anna tharam anna sabamvamgalai pongal le pakaalam', 'remak movi hit milion view k like', 'thala kola mass yuvan bgm therikka vittinga', 'padam pathutu trailer paaka vanthavanga irukeengala', 'differ ah super ah iruku', 'thalaiva arasiy venam thalaiva una ipdiy kadaisi varaikum gedh ah pakkanum varatha thalaiva arasiy ku', 'yarellam bigil trailer ku wait pandringa', 'next year varikum wait panamudiyathu kid', 'edai ennum koncha naalil bigil beat pannirum', 'makkal selvan vijay sethupathi fan like hit bro', 'thala perform pinitaaru mavan namma naatuku intha padam theva august th therrikka podhu', 'movi nation award vanga thala rasigargazhin manamarndha vazhthukk', 'liar liar liar liar liar vera level thala', 'bayama irukku vishvaasam enna aaga pogutho', 'nee nadiganda nadiganda nation award unaku thaanda', 'unga thala avalovadhan ore per ethana comment podaringa vekkamailla', 'dialogu saguradha irundalum sanda potu saganum sir kai kaal la vilundhu saaga kudadhu', 'vivek unaku ennapa sivakarthikeyan padathula yellam nadikura', 'wowwwwww thalaivaaaaaa semma love u rajini sir', 'therikkuthu trailor sema mass karthi anna bgm vera level', 'indian super star rajani fan like', 'kal packet noodl khayi thi bc tab bhi iss kam tatti kari aaj', 'wait thala thala thala thala thala thala thala thala thala thala thala thala thala', 'main itna khush hua atlantica mata ki aarti cinema dekhn ke liy pita tumhi password rupasi cinema', 'kaidhi movi censor complet ua certif devabali realia', 'trailer nallav illa english film la varamari irukku graphic', 'trailer nalla erukku padam oduma', 'surya anna fan hit like', 'konjam bairava vum konjam mersalum serntha oru puyal blockbust commerci film', 'cell phone disast sivakumar selfi', 'thala en singama vera level h vinoth yuvanshankarraja boney kapoor ajith kumar pandey level let see nerkonda paarvai', 'clock kulla varuma', 'wow wow wow wow wow wow wow wow wow wah word', 'pl hindi dub krna kyu', 'super star amaz wait', 'love u viji anna blockbust trailor', 'parava illay vayasu thatha', 'elam ok ba aana stunt konjom realist vachirukalam adicha parakura maari illama', 'anil ku vairu eriuthu pola', 'ipo enna panna porom sweet sapda porom vera level', 'ghibra mind blow bgm sinc papanasam thoongavanam saaho kadaram kondan', 'telugu like attitud', 'oru class mass feel undu', 'namma super star politicsla dmk vukku ethira varuvarnu partha ippo dmk vin sun picturesla nadikkirarru avarakku cinemathan ulagam last varai ivar actorthan', 'thala look vera level like lion', 'k like wait million like', 'trend innum konjam nerathu la vanthurum', 'yepppaaaaaaaaaaaa yepppaaaaaaaaaaaa aaa enna massuuu enaaa maaassssu thala eppavum masss da block buster film conform', 'k like k share max', 'nalla iruku super strong ah illa geatha', 'padam parthu vanthu trailer pakreven inga oru like ah podu', 'thalapathi trailer ku yarula wait pannur ga like poringa', 'kaali attam arambam allu silra ela odidu', 'neraya neraya neraya like vara thalapathi fan sarbaga valthukk', 'vera leval thalaivaaa sirappana tharamana sambavangala inimey thaan paakka pora', 'sarkar evalo sathanai pannalum atha murai adikka nov one day pothum', 'like ajith like getup age ajith', 'omg sankar ji muv ku marana wait', 'yarellam viswasam trailer pathutu thalaivara pakka vanthinga', 'bhavesh joshi enna hindi padam mathiri irukk', 'intha trailer kum dislik poduruvan lusu koo', 'entha mass rajiniyai evlavu nala miss pa', 'neraya neraya neraya intha padaththula ethirparkuran thala', 'intha padam block buster agumnu solldravanga oru like', 'yevlo vayasu analum yen thalaivaroda stayl korayathu da athanda super star marana wait kolagandula iruka da petai ku', 'bgm vera level', 'k unlik suck middl finger', 'kila avala peru irukuranga eppidra mele vanda sethu sir adu kila irukaravangal kelu da mele vandavan kekera', 'block buster hit pakkaa vijayasetupati makkal selvan act mass king andhra pradesh', 'entha trailer ku matum ella matha hero voda trailer kum dislik varuthu tamil cinema star fan poramai', 'english padathoda tamil trailer maari irukeyi wowwwwwww', 'thala oda unmaiyana fan ahaa irrutha ilk podunga', 'engin sonnavan nalla varuvan pa', 'thala trade sri lanka', 'semaa pongal thalaivar pongal', 'makkal selvan fan hit like', 'man super thalaiva', 'vijay sethupathi fan hit like', 'finish dialogu thala fanshuku shoot agum yenna avunga avar mela viswasham kata mathavangala asigna patuthuvanga', 'apdiya appo varalam happi bigil diwali', 'padam vara level bigil trailer ah paapoom', 'hahaa cr vfx itz like cartoon', 'script music cinemotographi mainli karthi act vera levelu kaithiy ipadi irukuna thalapathi epadi iruka pogutho cant wait', 'thala vera level thala variyan like', 'yuvan shankar raja music', 'idea super paraglyd ambul drone use pesticid vera level idea', 'evolo nal achu indha mari mass dialogu oda padam pathu ora bayam suri mattum', 'begin vjmaaaaaaaaa n anilu kothi fan', 'kid shakthiman k la', 'kola verila irukuravanga like pannuga rajinjfi', 'lv u thala unna adika evanum ila', 'viswasam enna aaka pokutho pongal avalavum thaanah', 'ulla porathukku munnani enna pannittirdhennu therituma vere level', 'yow verithanama iruku vera level', 'karthi vach inda mass na annan vachu eppadi pannuvaanga nu yosichu paarunga', 'enimel unga padam la avalotha pola', 'vijaysethupathi anna voic entri maja love u vijaysethupathi anna', 'time mela pathuta bayamav iruku yenna act da yeppa dhanush best movi ha irukum bgm', 'ada karumam puduchavanungala pink padatha ennada panni vechurukinga', 'mass aveng end game lay terinjuduchu', 'neraya neraya neraya neraya neraya semmmmmmma', 'music santosh narayanan panna innum nalla irukum', 'thala thala oruthavanga mela viswasam kaatrakku eadhukku aduthavangala asinga paduthuringa', 'gvp fan iruntha oru like ah pottuti ponga', 'pakka dane pore indha kaali oda attatha', 'ipidi neraya neraya neraya neraya neraya movi la act pannugga thala adhutha geththu', 'super movi', 'yellam avan seyal', 'indha padathu moolama nalla matram varum tamil natla super thala', 'yenda atlest oru laalaikku munnaiyaavadhu announc panradhu illa trailer relaes panna porom nu', 'vera level trailer decemb ku wait', 'tharumaru vfx padathula innum nalla irukkum la romba nalla irukkum', 'karthi annan massu best kaithi', 'thalaiva wait', 'iam wait chinna thala vijay sethupathi movi', 'ennapa gv bgm viswasam matri iruku athukula copi adicha epudi', 'pakka mass edit la oru small mistak thalaivar rajini spell ah thappa potutingal paaa introduct la', 'smjh nhi aae bt mst lgia trailor', 'vera leval thalaivaa ne epavam mass', 'yevadu ki copi maar di kya', 'serial la nadika vendiyavan innum film la nadichikitu irukan', 'hindi padam maathiriy eduthrukkan tamil padam saayalay illiy awesom direct', 'rip headphon user ippadi kathuvan nu ethirpakul suriya', 'u kena tunggu lebih lama lagi untuk tahu saya chiyaan', 'thalaiva fan singapor like', 'gvp prove best wish dhanush sir versatil dir vetrimaaran sir', 'first view first like', 'best look chiyaan vikram love bangladesh', 'enga thalaivana verukav mudiyathu sema mass veral level', 'nee va thala vasanalum algum styleum ungala vittu pogala', 'seem remak point blank mistaken point blank awesom movi', 'padipehmatu yavanalu yaduka mudiyadhu semma dialogu fdf wait', 'yebbah dei nalla padatha keduthutingal da go watch pink', 'padippu mattum yaralaiyum eduka mudiyathu semma', 'rajni sir fan like', 'mass mass parak pongal one super one rajinikanth', 'namakita kadu iruntha eduthupanga panam iruntha pudingipanga padipu matum eduthakv mudiyathu dialogu sema', 'sk fan vj rombhaaaaaaaaaaaa ptikum anaaaaaaaaaaaaaaaaa act vera level', 'thala kola maasss ingayum sila echa naaiga vanthu less view less like nu kadharitu irukanuga potta pasanga', 'pink trailer kuda appidiy copi pannitenka', 'last theme music look like nerkonda parvai vaa mothi paaru', 'light work kaka pathavanga like podunga', 'adei adhukullayuma k view trailer', 'thalivaaaaaaaaa neeee semma love u soo muchmak way king', 'kaithi eh ippadi na appea thalapati dei naan thala fan da eanak veari asguthu', 'mass dialogu ipo atha panitu irrukanga', 'padathulaa fight scene iruku enga illama poiyurumonu neenaiche', 'ethula think thala kami sean la tha varuvara', 'saaho highest view nerkonda paarvai', 'vera level thala ultim star', 'yen thalaivan ayaz irukkana superu nallathaan irukkum pola pa', 'hero karthi sir uyir', 'want kannada version', 'sec bgm like viswasam', 'im dissapoint ongaluku epdinu theriyala ennaku satisfi agala', 'sasi kumar mass thalaivaa', 'one ask tala pola varuma talada', 'ippo puriyuthu en titl ner konda paarvai nu vachanganu', 'movi telugu movi remak movi name sri mahalakshmi', 'trend thala daw vera evan daaa', 'wait vijay anna rasigan', 'oorula unnakoru meda vaanula la unnakoru mancham thala nee parkum paarvai parava paarvayadaa ithu enga thalaiku thaan porunthum', 'ene may da miga sirappana sambavagella kaathirukku petta parak', 'mersal petta sarkar viswasam ipadi ellam movi record kandipa break pannum', 'tnk fr thala mass mov ah sel panam ah ipdi oru nala scriptku act panringa', 'nethanepa nama valanumna yaravenalum kollalamnu sonna', 'h vinoth super ji thala masssssssssss', 'wait dhanush thalaivaaaaaaaaaaaa first day first show go love dhanush anna', 'vere level thalaivaa karthik subbaraj sir vere maari irukk unga character', 'ena pa padam nalla irukum polay', 'dislik pleas step back k kaithi diwali', 'enikoru doubt kadaram kondan um drivanatchathiram vm rand cnma aano atho onnaano', 'arjun sir like sk comment game start', 'vera level yuvan bgm thala mass', 'sukranl thalapathi vijay vandhamari thala ajith varapley', 'indian biggest budget film keep support super star rajini sir', 'thoo kelatqpaiya naay ka pecha para thoo', 'twitter ku vanga thala fan', 'sivakumar ah villainah potruntha innum mass ah irunthirukkum', 'famili sentiment pondatti pullainga engayo link aavuth sun pictur nalla panringa thalaivar dharisanam', 'namaku thevaiyanathu award namba tha adichi vanganum', 'guy porathum poringa appadiy intha trailer ku dislik pottutu ponaga', 'ayyyoooo thalaivaa enna solradhun therla summa therikkudhu', 'dec enoda birthday yaru yarula hero irukingalo enaku like panunga', 'trailer bakwa hae pr movi lajawab hogi akki sir rajni sir', 'super talaivaa semma aalu talaivaa wait talaiva ponggal semma trailer', 'hard work wait full movi', 'epidi daa veakam illama unlik poduringa padam blockbust daa', 'rangaraj panday ku correct aana role', 'enakku mattumtha ippudii kaatutha k view k like', 'sirappaana tharamaana sambavangala inem thaan pakka poreenga petta paraak', 'remak padamna music um remak panra vanga madhiyila thannoda music pottathu sema ya iruku ellam u mayam', 'enna da yapoda tarilera relas pannunga viwesa kameya iruku anyway semma mass taril', 'god super anna', 'ghibran uniqu music compos', 'makkal enga channel ah konjam subscrib pannunga plzz friend aai pasanga', 'marana mass video song weit', 'andha k dislik panna potta pasangala yen poola vandhu oombungada', 'ajith idh mari diff diff ana padam panna nallarkum', 'ethulaa yaa age yenakku oru love eilla aana vayasu ullava love pannuraaga mudiyala', 'asuran hit comment flop like', 'petta go chase visuvasam', 'chinna payy maari styla irruka biggest joke ever made year old man', 'ajith surya rasigar pooram oompa vantanuka', 'trisha mam alaga irukaanga love u trisha mam', 'biggest blockbust nu solravanga like podalam', 'thala naa mass thala naa class thala naa trend settar', 'intha trailer paatha pirahu yarukelam thalapathi mela wait athigama iruku', 'pink movi vs nerkonda paarvai movi', 'yow lahari music inda channel karanuku epidi promot pandranu solli thangaiya', 'bigil eat kaithimark word', 'padathukku oru nation award parcel', 'aim lawyer enala aga mudiyala sila karanagala en thalaya antha lawyerla pakkurapa romba happyyyaaaa iruku', 'gommala thala da verithanam', 'dei ennada conair padatha kavuthi pota madiri iruku unga kaithi r thiruttu payal lokesuh', 'maranam maasu maranam tuffu tharanum athuku avan thaan poranthu varanum', 'yaralaa verithanama wait panittueruking aguruku', 'pppppaaa apdi iruku semma ethana time tha pakarathu eagerli wait', 'semma masso massu luv u thala', 'analum thalai ku siva mela romba viswasam pa', 'yuvan bgm sema mass vera level goosebump overload', 'rajini sirdi hard fan andhra', 'enada ithu viswasam one day la pana view like ithu moonu naal agiyum thandala', 'vfx innum konjam nalla panirkalam shankar sir cr budget lay tik tik tik world class vfx', 'stylish chiyan vikram sir love sir', 'kaalila elunthavudaneaa straight aaaa inga varavanga matum like podunga', 'age rajini fan', 'pakistani movi na indian movi ka record tor dia salman khan b hairan open link', 'rajini maderi oru potta paiyanukku tamil cenimavul itam kudukkakutadu', 'superstar vs makkal selvan antha scene epdi irukumo', 'yoov gv enaya ipd bangam ah bgm ah potruka mass uh ya', 'kaipulla vijay twitter la trend agudhu', 'nee mothurathu enkitta illa eman kitta mass mass', 'gv prakash music vera level gv fan hit like', 'world number one craphic vasul vettai aarampam worldwid ithula vara panam konjam tamlmakaluku help panunga ok', 'thala nerkonda paarvai look masss enga thala pola varumaaaaaa nerupu da', 'thala u erundha adhu mass dha', 'enga anna varurua ella uthkittu enga ana vijay setepathei', 'visvasam trailer trailer sppourt panavang yalaru edhuku pannug', 'vikram sir nadippuku vayasu agav agathu hat u', 'sprb enapa diwali rl octob rl aa mari pochu', 'thala rasigayin sarbaga sangathamizhan vetri adaya vazhuthuk', 'ajith kumar fan like', 'sam cs enough daraa darr dara music bgm romba palasu aagirichi', 'kena tunggu lebih lagi untuk tahu saya', 'avengersku tamilnadula aall selectionah irukara super hero pathalanu ivaru vera', 'thalaivar vara laval super trailer', 'bgm chumma therikkudhu vikram sir masss', 'get readi rajinifieddddddd talaivan daaaaaaa', 'like poddu trailer pathaa vaingaa like', 'rangaraj pandey fan', 'time mela pathavanga mattum like', 'still messag ga great yar', 'k like reach like vitraathinga like ah pottu therika vidunga thala veriyan', 'superb thala frm pavan kalyan fan', 'thalaivaaaaaa magnum op vera level electrifi mass', 'ammadiyo thala da nadipu vera level thala fan endu solla perumaiya ituku love thala', 'kaithi logesh sangatamilan vj bigil vijay vijay', 'antha alavu interest ah illa fulla girl ah dha katranga', 'time watch panavan like podu', 'sk fan like vj sethupathi podra lika like theriksnum sk fan', 'nalla illa na hollywood edhuruparthen', 'podu vera level love anna', 'mass good work keep rock superstar', 'next level tamil cinema must like', 'super super ghibran bgm vera level', 'trailer vera level padam mass aah irukaa pothu', 'thala na thala thala takkaru doi', 'condipa hit moviethanu solaravanga ellarum oru like podunga', 'oruthar mele neenga viswasam kaaturthukaga innoruthar en asingam paduthuring', 'vera lvl get semma vikram anna super trailer', 'marana wait thalapathi fan', 'dhanu look remain kamal hassan look virumandi', 'thala ajith sir mass konjam kammiya irukuravanga like pannunga', 'nallaa thala thala nu irukaru ajith', 'vere level daa trailerr thala', 'naan thala yoda thivira rasigan daa naan thirunelv karandaa', 'adichi underwearla oda vittuduven simon', 'like rekka namma veetu pillai kuda vidalam mass ah irukum', 'captain fan paaa sema gethu ah iruku ajith sir', 'raijini massmi age na rajini fqn', '', 'intha week kulla k like varanum', 'youtub hang aaych view kaatamaatingith like increas aaykitt irukk', 'k like marana mass ah', 'vijai sethubathykkaga trailer paakkuravanunga poi seethakathi paaru rajini mass marana mass', 'vj nadaka vda matan seenu thala nadaka koodathu gethu', 'hindi upload karo bhai ea movi ke', 'trand kyu ni aa rahi h yrr', '', 'u bgm ozm sema thalaivaa love u u', 'yella pasangalum paakkavendiya padam thala sonna namba pasanga keapanga', 'dhsnush vera leval ethana mura pathalum salipu illa', 'viswasatha postpon pannuganga da', 'pakistani movi na indian movi ka record tor dia salman khan b hairan open link', 'thalaiva trailer time parthuda innumu slikkal pathutt irukkanum pola irukku love rajini sir', 'thalaivar il parthamathiri irukkar jan epa varumnu irukku thalaiva wate', 'super trailar super star rajni rasigan', 'ena da idhu dunkirk bgm copi adicha mari iruku hanszimm paavam summa vidadu da', 'last dialogu suit fan', 'like ayyayo ithu nala eruka dialog', 'thalaveriyan solren semma mass viswasam elithi vachukonga viswasam trailor ithoda mass ah irukum', 'ayo enga oorla week ku ticket aah book panni vachitanungal ticket kooda kedakalay', 'dai enada ithu thaarumara irukku vetrimaran dhanush prove', 'yennada padam releas aana aprom trend la varuthu', 'thala mass kola mass', 'ajith sir back wait long want mass movi want like vaali mugavari p vassam', 'plz make million like thala fan make fast', 'viswasam varum vera level la parunga', 'karthi ku support pandrenka tamil fan karthi ku telgu fan pudikum ivana yaarum mathikathinka', 'thala ni vera level unna adichikka evanum illa', 'oruthar mela vishwasam kattuvatharkaga ennoruvarai en asigampaduthur good dialogu', 'thala fan ella oru like pottu ponga pa', 'thalaiv fan hit like papomm avalo diehard fan irrukikanu', 'gorilla movi potta pola bgm poduringa konjam mathinga', 'dedic die hard fan', 'ethuku polit nadika matum seiyalam', 'set fire', 'thaaa bgm vera level mass', 'thala yuvan block blaster', 'pwoli pwolii dhanush vetrimaaran manju warrier', 'look like pink movi remak', 'rangrag pandeyva athu', 'sanga thamilan nu titl vachutu enna remix song', 'kaithi seekaram venum awesom movi watch hotstar', 'padam paathuttu trailer paakka vandhavanga hit like padam eppa semma mass vera level', 'semmaya iruku thalaiva nanka intha getula unkala parkurathukutha ivlo naal irunthom thalaiva vayasanalum unka alagum stylum maranthu', 'chanc ye illa team kaithi romba naliku aprm nala padam patha feel', 'trailer parka vadhavanga ellam oru like podunga', 'yenda ippadi comment la like picha kekkuringa', 'thalaku evalu hater iruntalum thala nala gethu', 'adai thalaivara ena da panni vachurukinga', 'superrrrrrrrrrrrrrrrr star love youuuuu much sir', 'trailer releas agi inum trend la iruku thalaivar mass vera yarukum ila', 'unna yappa screenla paponu irukan thala', 'make k fast speed folk', 'h l', 'million view remak movi adegepaaa', 'petta trailer super rajnikanth garu style want telugu releas januari rajnikanth style adur pakka mass', 'shakthimaan pictur uh paathathum yaarukellam goosebump moment aacho avangellam keezha irukka button uh blue aakungha', 'sumara irunthalum vijay sethupathikaga like podalam', 'bigger fan thalaivar', 'hindi mai kb aayega ka trailer', 'oruthar mela visvasam kata inoruthara en asinga paduthuringa sema', 'vera lvl iruka pogudhu padam thalaivar fire', 'seen bigil trailer better jail kaithi', 'entha makkal ninna kutham nadatha kutham nu unga mela sollitu irukkanga nega evalo good man nu makkaluku therium', 'petta thara local vera level anirudh bgm maranamass', 'mani dislik guy thalaivar ku like mattum thaan pichukittu poganum', 'atleekku soothu adikka poguthu inda padam tha verithanam', 'marana maasssss thalaiva summa allu vitruchu', 'ethu satha petta ella marna petta', 'ithu varai ayaratha ulaippin sinthinai viyarvai ini un vettri yai tamil nadey pesum ner konda parvai', 'enaya tamil idhu mass iruku kekrapo siripu vandhurudhu', 'adichi underwear oda odavida porom naam thamizhar', 'innum konjam better aa irunthirukkalam solravanga like pannunga', 'pangam ithupola advoc charact nadika oruthanuku yugam aagum avaru seriousaah pesunal siriputhan varum', 'abe chutiyon sab la ke ussi date pe kyon laa rahe ho bhadawon', 'yarellam viswasam trailer pathu inga varinga', 'rajni sir vijay nawajuddin one movi omg', 'shankar sir vera vera vera leval sir super film veyd', 'movi vera level thala sema quot', 'look like action king arjun', 'rajani sir back pongal bang', 'see view k like k', 'thalaivaa unnaku commerci set agala thalaivaa vikram vedha mathiri class ahh padam nadi thalaivaa nanga pakkurom', 'stylish star rajini sir', 'adangappa semma tralier fight na innum thrikum', 'vera sk anna hollywood movi mathiri irukku love sk anna', 'patha mass ah iruku bigli trailar alavuku worth ah iruku', 'daiiii sun pictur ennada fraud pandringa pogandaaaa', 'judg mr amai court la epadi katha kudathu dala kadupethurar lord', 'summa like view al luthu pa', 'pettttaaaa trailor semmayo semmma pakkkaaa massss thalapathi fan', 'maassss thala ipati neraiya nerarya neraiya neraiya neraiya iruku masss speech thala', 'vishvasam trend canada petta sunday dec', 'vayasanalum ungalota alagum stailum innum kurayala', 'ippadi neraya neraya neraya time paapen thala', 'irudhiyil ivarum mgr labelil dhaanavar cinemavil hero vaazhkaiyai ottuvaara', 'think movi vera levella irukum', 'super star na adhu rajini sir mattum tha vera yarunaalayum antha patta tha vanga muditadhu da', 'think rajnik sir look like iron man', 'yaarellam bigil updat paathutu inga vandhinga like podunga', 'enn kodum sir ethu', 'dislik panna payulum poramaila dislik pannirukka logesh next flim vijay', 'oru seen la kuda thala kan imaikav illa idha yarellam note panninga hit like', 'real rajini movi ti want want', 'pongal ku vara matha padangala thalaivar sathiyama adichu wear oda odavidaporaaru maanam pona thiruppi varadhu paathukonga', 'zoom ponadhum sirichaven la like podu', 'dhanush vetrimaran gvp', 'u tharu maru music da yepa', 'yea rajni sir movi naa ipidi irukhenom', 'thalaivar fan tamil talki maran namma thalaivar pathi thappa comment panirukan avana konjam vezhuthu kattunga pl', 'thalaivar varrarru podiyanugkellam odidu adichu underwearoda oda vittiruvar pathukkonga', 'trailera vida padam miratala irundhuchunu nenaikravanga oru like podunga', 'thalaivar adhiradi good look young pakka mass trailer', 'thalapathi fan naan viyandhu poiten', 'sk fan like annan uyir fan comment', 'million view inniku mani ku', 'yov youtub admin view ah upload pannuya', 'vetrimaaran fan like', 'ommalaaaa vangada eppo ethu unmayav thalaivar pongal daa mavan gethu', 'massss sir semma trailer eppo movi pakka poram', 'ayyo thala naa ennamo ninachen aana teasrey vera level amaz act kola mass', 'miratt bgm isaithalaivan bgm king', 'thalapathi elam diwali ka bigil thalapathi sangathamizhan vj kaithi lokesh kanagaraj', 'adichi thookalaama thalaivarr adichi veroda oda vitruven paathuko', 'kerala chiyan fan like', 'sk anna fan like hero block buster like', 'ranjith sunnia vetti ooda vittuvom aprom ooka poolu ilama poidum', 'namaku thaviyanatha nama adichi vanganum', 'en thalaivana minja oru paiyanum ila thalapathya thavara', 'agar hindi dub art nahin hota toh hum kabhi bhi south ka talent pechan nahin pati', 'vera level vikram anna sama', 'anil fan irundha like podunga paa', 'sri vegnesh thalaivar fan style', 'ithu varikum time pathavanga like podunga time pathachu', 'ranji star marana mass thlaivaa vijaysethupathi', 'comment eathanum adha vida like kandipa eariya aganum pa cross pananum', 'vijay anna wait na mass kadrenga', 'argument scene vera level thala vs ponday', 'intha kaapan fan inga vanthu comedi pannitu irukanga', 'thalaiva vera level tharamana sammbavam pongal ku iruku', 'semma gandl irukk mavena kollam vidamatt super thalaivar', 'iam dhanush fan like super star', 'career chang movi nerkonda paarvai', 'surya anna fan marana masss thala', 'thala mass epovum pola u bgm', 'graphic sari illa nu solrathukun oru gang suthum parunga', 'million view day thalaivaaaa', 'super kit like movi', 'polladhaboomi song padathula vallanu yaarallam feel pandringa', 'villan kollan chittiy irakkunnu chitti parajayappedumbo avanil red chip vechu aakkunnu that', 'mass thala u class therikka vidalama', 'kanithan padam maari thaan irukum pola', 'rajni sir get younger day day hahha thalivan', 'k view k like ennada pannivachirukiga', 'rajani naa massda ajithnaa looseda namma super starku meela ewanda', 'sare sare sare sare sare sare bangaram', 'romba nalaiku apram thalaivar old way semma', 'enna da athukulla mudichu pochu chai thala ya pathutey irukanum', 'intha trailer ah siva kumar sir ku pottu kaminga', 'thala mirrati vidutinga ponga thala love ajith sir', 'ithu thevai ilatha velai rajiniku vayasagituna adakama poidanaum ethuku', 'ayayo pochu jan la oru sirapana sambavam iruku kaali come rock', 'vera level illa athukum mela', 'vfx ipadi sothapuringala ba enga expect thalaivara nala vfx la massa pakanum vfx updat pannunga pl mokka panidathinga', 'hour million view thala maaaaaaaasssssssssssss', 'surya veriyan ni mattum enga kita matna settada mavan ngk diaster', 'trailara paakkum podhu bigil nelama romba mosama irukk', 'trailer pakkupothellam pullarikkuthu thala', 'look like superstar thalaivar', 'sema sema sema sema sema sema sema sema sema sema', 'remak pe remak pe remak aakhir kitn remak tollywood', 'first time releas aana minut la oru trailer ah paathruken semma feel', 'movi look like con sir movi', 'perusa onumilla movi kaaka wait panuren', 'nada mokkaya iruk kaala kabali mathiri oruk', 'aiiiiiiiyo vera leval hollywood ranguku ierukku iyyoo padam eppa varumnu ierukkku', 'thalaivar come back petta luv thalaivaaaaa', 'karthi thalaiva vera level block buster aaga valthukk', 'ennada ethu trailer mugamudi mari eruku', 'padam flop dhan pola enna vijaya product logo hindi la eruku modhala adha mathungada', 'rip sr prabhu punda mavan ne theru kodi thaan di sad luck karthi lokesh anna', 'ore super star thalaivar vera evanum', 'thalaiva vaa thalaiva sk anna fan yuvan anna fan like vera level hero', 'trailer pudichuruku nu solluravunga hit like', 'wait ner konda paarvai', 'oruthar mela viswasam kaatta yen inoruthara asinga paduthureenga', 'ellarum vaiyila virala veikira alavuku tharama sambavam irukku thala daaa', 'itha verithanam batsha padaiyappa arunachalam annamalai sivaji varisaiyil oru petta best suriya anna fan', 'marana w g vetrimaran sir fanz hit like', 'fdf viewer hit like', 'thala pola varumaaaaaaaaaaa superstar alway impress give', 'neraya neraya neraya neraya veri thanam thala wow', 'rajini akshai marana mass trailer', 'ippo naam enna seivom hatter itku seruppaal adippom', 'error spot siva hang rope', 'muga moodi part va irukka koodathu kadavule', 'yarulam bigil trailer ku wait pandriga like podunga', 'sethu anna fan like pottu ponga', 'intha padam nalla odanumna bigil kuda motha vendam', 'karthi anna supera erukku diwalikku wait panra anna', 'thalaivaaaa nee vera level', 'intha vatti ascar award ku tri panrar pola', 'ennada panni vachu irukinga siva va avaruku ethuku intha pomma dressla pottu comedi pandringa', 'ardent fan rajni yusss karthik subbaraj petta parak', 'enna thatha vala million like thoda mudiyallaya', 'v u th la unga th nnamb kka yarukkum thala neenga nalla walanum thala', 'namma inga summa like mattum pottu avanuku valu ethi vidrom', 'ippo irukura pasangaluku intha power fast irukumna teriala ana adutha superstar solitu thiriranga chinna pasanga', 'ennappa ennala inno namba mudiyala trailer releas aayiduchunu solla kollama releas pannirukkeenga', 'kadaisiya oru nalla rajini movi trailer pathachupa', 'pointo shankar rajnikanth arrahman ddiwali', 'hit like rajinikanth vijay sethupathi simran trisha', 'pengalukaga intha movi apadilam nadakathu nadakavum kuduthu thala da', 'bgm u', 'asuran hit aaganumna enaku like podunga', 'came movi biggest block buster', 'intha kela kuthiku seen venuma', 'enaku mattum dhaa mokkaiya irukka illa vera yaarukavadhu mokkaiya irundha oru like podunga', 'sirappana tharamana sambavangala inim thana pakaporeenga', 'usur mela poitu varuthu thala ungala paakum pothu', 'age rajini fan hit like', 'anyon watch india srilanka time pm malaysia singapor time pm', 'dhanush fan like', 'ponga tambi innum miillon viewer kutta tandala', 'readi race viswasan vada padda vada satta', 'time watch pannunga rais ur hand', 'hello telugu fan yavaraina unt like veskondi boss', 'k view mil', 'bigil ah vida super hit kaithi', 'ellarum ajith liker koliwood king act young', 'podu evalavathaan age aanalum thalaiyoda voic irukka', 'look promis vivek mervin congrat promis talenta vijay sethupathi anna mass aana movi apa apa ipdi padamum thevai', 'innum naal erukku nkp ku wait la erukkavanga hit like thala', 'like bigil movi like', 'thala daa dislik pandravan kundi yerich la gommala ungalukku laam idhavida bayangarama sambavam irukku da', 'semma thala oruth meala neega viswasam katrathukkaga innoruthara yen neega asingam paduthuringa semma thala', 'ithu enna amitha bchan movi ya thala ethu sonalun ethu senchalum epadi act pnalum engaluku pudikummm', 'sarkar min la million view', '', 'pink vali feel par stori dam hai', 'life time viewa thaandathu pola kodumai', 'chiyaan verithanam chiyaan fan hit like', 'thalaaaaaaaaaaaa feel emot', 'wait k like', 'yenakku mattum iru mugan movi maari thonudha', 'ithu thaan da rajini padam pa ranjith unaku paadam', 'karnataka rajnj fan hit like', 'earphon la u bgm kekum pothu vera level', 'sappypathi vijayamma bigilu ummpi get dislik target k dislik', 'stylea erukana ha ha natur', 'style la irukana hahaha mass dialogu', 'like lokesh kanagaraj thalapathi director', 'naa indha trailer time paathuten pakka pakka thala maasss thala dharisanam kedachirichi']\n"
          ],
          "name": "stdout"
        }
      ]
    },
    {
      "cell_type": "code",
      "metadata": {
        "colab": {
          "base_uri": "https://localhost:8080/"
        },
        "id": "UqSSd4jZ0n80",
        "outputId": "f3e1a85b-0d0f-44cd-ccd9-389d0e3ba276"
      },
      "source": [
        "from sklearn.feature_extraction.text import CountVectorizer\n",
        "cv=CountVectorizer(max_features=1000)\n",
        "X=cv.fit_transform(corpus).toarray()\n",
        "y=data.iloc[:,-1].values\n",
        "print(X)"
      ],
      "execution_count": 17,
      "outputs": [
        {
          "output_type": "stream",
          "text": [
            "[[0 0 0 ... 0 0 0]\n",
            " [0 0 0 ... 0 0 0]\n",
            " [0 0 0 ... 0 0 0]\n",
            " ...\n",
            " [0 0 0 ... 0 0 0]\n",
            " [0 0 0 ... 0 0 0]\n",
            " [0 0 0 ... 0 0 0]]\n"
          ],
          "name": "stdout"
        }
      ]
    },
    {
      "cell_type": "code",
      "metadata": {
        "colab": {
          "base_uri": "https://localhost:8080/"
        },
        "id": "HQk25s-q36e3",
        "outputId": "32cf4d35-154b-47e6-d189-325334aa0748"
      },
      "source": [
        "len(X[0])"
      ],
      "execution_count": 18,
      "outputs": [
        {
          "output_type": "execute_result",
          "data": {
            "text/plain": [
              "1000"
            ]
          },
          "metadata": {
            "tags": []
          },
          "execution_count": 18
        }
      ]
    },
    {
      "cell_type": "code",
      "metadata": {
        "id": "Z8vsA74-4_yJ"
      },
      "source": [
        "from sklearn.model_selection import train_test_split\n",
        "X_train,X_test,y_train,y_test=train_test_split(X,y,test_size=0.2,random_state=0)\n"
      ],
      "execution_count": 19,
      "outputs": []
    },
    {
      "cell_type": "code",
      "metadata": {
        "colab": {
          "base_uri": "https://localhost:8080/"
        },
        "id": "QyW3XV9i5kZH",
        "outputId": "9f3b7f2e-d201-4d7d-a13f-c985ac3228aa"
      },
      "source": [
        "from sklearn.naive_bayes import GaussianNB\n",
        "classifier=GaussianNB()\n",
        "classifier.fit(X_train,y_train)"
      ],
      "execution_count": 20,
      "outputs": [
        {
          "output_type": "execute_result",
          "data": {
            "text/plain": [
              "GaussianNB(priors=None, var_smoothing=1e-09)"
            ]
          },
          "metadata": {
            "tags": []
          },
          "execution_count": 20
        }
      ]
    },
    {
      "cell_type": "code",
      "metadata": {
        "colab": {
          "base_uri": "https://localhost:8080/"
        },
        "id": "jocgFL1j6aEH",
        "outputId": "2dda617b-8d9a-438e-eabd-f6177586ef99"
      },
      "source": [
        " y_pred=classifier.predict(X_test)\n",
        " print(np.concatenate((y_pred.reshape(len(y_pred),1),y_test.reshape(len(y_test),1)),1))"
      ],
      "execution_count": 39,
      "outputs": [
        {
          "output_type": "stream",
          "text": [
            "[[0 1]\n",
            " [1 1]\n",
            " [0 1]\n",
            " [0 1]\n",
            " [1 1]\n",
            " [0 1]\n",
            " [0 1]\n",
            " [0 1]\n",
            " [1 0]\n",
            " [1 1]\n",
            " [1 1]\n",
            " [1 1]\n",
            " [1 1]\n",
            " [1 1]\n",
            " [1 1]\n",
            " [0 1]\n",
            " [0 0]\n",
            " [1 0]\n",
            " [0 0]\n",
            " [0 0]\n",
            " [0 1]\n",
            " [1 0]\n",
            " [0 1]\n",
            " [1 1]\n",
            " [0 0]\n",
            " [0 0]\n",
            " [0 1]\n",
            " [0 1]\n",
            " [1 1]\n",
            " [0 1]\n",
            " [0 1]\n",
            " [0 1]\n",
            " [1 1]\n",
            " [1 1]\n",
            " [0 1]\n",
            " [0 0]\n",
            " [1 0]\n",
            " [1 0]\n",
            " [1 1]\n",
            " [0 0]\n",
            " [0 1]\n",
            " [0 0]\n",
            " [1 1]\n",
            " [1 1]\n",
            " [0 1]\n",
            " [1 0]\n",
            " [0 1]\n",
            " [0 1]\n",
            " [0 0]\n",
            " [0 1]\n",
            " [1 1]\n",
            " [1 1]\n",
            " [0 1]\n",
            " [0 1]\n",
            " [0 0]\n",
            " [0 1]\n",
            " [0 1]\n",
            " [0 1]\n",
            " [1 1]\n",
            " [1 1]\n",
            " [1 0]\n",
            " [0 1]\n",
            " [0 1]\n",
            " [0 1]\n",
            " [1 0]\n",
            " [1 0]\n",
            " [0 0]\n",
            " [1 1]\n",
            " [0 1]\n",
            " [1 1]\n",
            " [0 0]\n",
            " [0 1]\n",
            " [1 1]\n",
            " [1 1]\n",
            " [1 1]\n",
            " [0 1]\n",
            " [1 1]\n",
            " [0 0]\n",
            " [0 1]\n",
            " [1 1]\n",
            " [0 1]\n",
            " [0 1]\n",
            " [1 1]\n",
            " [0 1]\n",
            " [1 1]\n",
            " [0 1]\n",
            " [0 1]\n",
            " [0 1]\n",
            " [0 1]\n",
            " [1 1]\n",
            " [0 1]\n",
            " [0 1]\n",
            " [1 1]\n",
            " [1 0]\n",
            " [1 1]\n",
            " [0 0]\n",
            " [1 0]\n",
            " [1 1]\n",
            " [0 1]\n",
            " [0 0]\n",
            " [1 1]\n",
            " [1 0]\n",
            " [1 1]\n",
            " [1 1]\n",
            " [0 0]\n",
            " [0 0]\n",
            " [1 1]\n",
            " [1 0]\n",
            " [1 1]\n",
            " [0 0]\n",
            " [0 1]\n",
            " [0 0]\n",
            " [0 1]\n",
            " [0 1]\n",
            " [1 1]\n",
            " [1 1]\n",
            " [1 1]\n",
            " [0 1]\n",
            " [1 1]\n",
            " [1 1]\n",
            " [1 1]\n",
            " [0 1]\n",
            " [1 1]\n",
            " [1 1]\n",
            " [0 1]\n",
            " [1 1]\n",
            " [1 1]\n",
            " [0 1]\n",
            " [1 1]\n",
            " [1 1]\n",
            " [1 1]\n",
            " [0 0]\n",
            " [0 1]\n",
            " [0 1]\n",
            " [0 0]\n",
            " [0 1]\n",
            " [1 1]\n",
            " [0 0]\n",
            " [1 1]\n",
            " [1 1]\n",
            " [0 1]\n",
            " [0 0]\n",
            " [1 1]\n",
            " [0 1]\n",
            " [0 1]\n",
            " [0 1]\n",
            " [0 0]\n",
            " [1 1]\n",
            " [1 1]\n",
            " [1 1]\n",
            " [0 1]\n",
            " [0 0]\n",
            " [0 0]\n",
            " [0 0]\n",
            " [1 1]\n",
            " [0 1]\n",
            " [1 1]\n",
            " [0 1]\n",
            " [0 1]\n",
            " [1 1]\n",
            " [0 1]\n",
            " [1 0]\n",
            " [0 1]\n",
            " [1 1]\n",
            " [0 0]\n",
            " [0 0]\n",
            " [0 1]\n",
            " [0 1]\n",
            " [0 0]\n",
            " [1 0]\n",
            " [0 1]\n",
            " [0 1]\n",
            " [1 1]\n",
            " [0 0]\n",
            " [0 1]\n",
            " [0 1]\n",
            " [0 1]\n",
            " [0 0]\n",
            " [0 0]\n",
            " [0 1]\n",
            " [1 0]\n",
            " [0 1]\n",
            " [1 0]\n",
            " [0 0]\n",
            " [1 1]\n",
            " [0 1]\n",
            " [1 1]\n",
            " [0 0]\n",
            " [1 1]\n",
            " [0 1]\n",
            " [0 1]\n",
            " [1 1]\n",
            " [0 0]\n",
            " [0 0]\n",
            " [1 0]\n",
            " [1 0]\n",
            " [0 1]\n",
            " [1 1]\n",
            " [0 0]\n",
            " [1 1]\n",
            " [1 1]\n",
            " [1 1]\n",
            " [1 1]\n",
            " [0 1]\n",
            " [1 1]\n",
            " [0 0]\n",
            " [1 1]\n",
            " [1 1]\n",
            " [1 1]\n",
            " [0 1]\n",
            " [0 1]\n",
            " [0 0]\n",
            " [0 1]\n",
            " [0 0]\n",
            " [0 1]\n",
            " [0 0]\n",
            " [0 0]\n",
            " [0 0]\n",
            " [1 0]\n",
            " [1 1]\n",
            " [1 0]\n",
            " [0 1]\n",
            " [1 1]\n",
            " [0 1]\n",
            " [1 1]\n",
            " [0 0]\n",
            " [1 1]\n",
            " [1 1]\n",
            " [0 1]\n",
            " [1 0]\n",
            " [0 1]\n",
            " [0 1]\n",
            " [0 0]\n",
            " [0 0]\n",
            " [0 1]\n",
            " [1 1]\n",
            " [0 1]\n",
            " [0 0]\n",
            " [0 0]\n",
            " [0 0]\n",
            " [1 0]\n",
            " [1 1]\n",
            " [0 0]\n",
            " [0 1]\n",
            " [1 1]\n",
            " [0 1]\n",
            " [0 1]\n",
            " [0 1]\n",
            " [0 1]\n",
            " [1 1]\n",
            " [1 1]\n",
            " [0 1]]\n"
          ],
          "name": "stdout"
        }
      ]
    }
  ]
}