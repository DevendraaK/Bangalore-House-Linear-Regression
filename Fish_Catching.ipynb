{
  "nbformat": 4,
  "nbformat_minor": 0,
  "metadata": {
    "colab": {
      "name": "Fish_Catching.ipynb",
      "provenance": [],
      "authorship_tag": "ABX9TyP5rQX9XFl9andRXocR8kYk",
      "include_colab_link": true
    },
    "kernelspec": {
      "name": "python3",
      "display_name": "Python 3"
    },
    "language_info": {
      "name": "python"
    }
  },
  "cells": [
    {
      "cell_type": "markdown",
      "metadata": {
        "id": "view-in-github",
        "colab_type": "text"
      },
      "source": [
        "<a href=\"https://colab.research.google.com/github/DevendraaK/Bangalore-House-Linear-Regression/blob/main/Fish_Catching.ipynb\" target=\"_parent\"><img src=\"https://colab.research.google.com/assets/colab-badge.svg\" alt=\"Open In Colab\"/></a>"
      ]
    },
    {
      "cell_type": "code",
      "metadata": {
        "id": "li2MKv7bN-av"
      },
      "source": [
        "import numpy as np\n",
        "import pandas as pd\n",
        "import tensorflow as tf"
      ],
      "execution_count": 38,
      "outputs": []
    },
    {
      "cell_type": "code",
      "metadata": {
        "colab": {
          "resources": {
            "http://localhost:8080/nbextensions/google.colab/files.js": {
              "data": "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",
              "ok": true,
              "headers": [
                [
                  "content-type",
                  "application/javascript"
                ]
              ],
              "status": 200,
              "status_text": ""
            }
          },
          "base_uri": "https://localhost:8080/",
          "height": 73
        },
        "id": "EoShLsd3OSDS",
        "outputId": "6c8ecc29-fb45-4655-8502-3d0a5d1db6bb"
      },
      "source": [
        "from google.colab import files\n",
        "data=files.upload()"
      ],
      "execution_count": 39,
      "outputs": [
        {
          "output_type": "display_data",
          "data": {
            "text/html": [
              "\n",
              "     <input type=\"file\" id=\"files-59faacef-d07b-4435-9290-9f4dfc72a37f\" name=\"files[]\" multiple disabled\n",
              "        style=\"border:none\" />\n",
              "     <output id=\"result-59faacef-d07b-4435-9290-9f4dfc72a37f\">\n",
              "      Upload widget is only available when the cell has been executed in the\n",
              "      current browser session. Please rerun this cell to enable.\n",
              "      </output>\n",
              "      <script src=\"/nbextensions/google.colab/files.js\"></script> "
            ],
            "text/plain": [
              "<IPython.core.display.HTML object>"
            ]
          },
          "metadata": {}
        },
        {
          "output_type": "stream",
          "text": [
            "Saving Fish.csv to Fish.csv\n"
          ],
          "name": "stdout"
        }
      ]
    },
    {
      "cell_type": "code",
      "metadata": {
        "colab": {
          "base_uri": "https://localhost:8080/"
        },
        "id": "QZbBPPJpOr7P",
        "outputId": "2570ec46-d89d-4f61-daf1-1cb784b3162b"
      },
      "source": [
        "dataset=pd.read_csv('Fish.csv')\n",
        "print(dataset)"
      ],
      "execution_count": 40,
      "outputs": [
        {
          "output_type": "stream",
          "text": [
            "      Species   Area Units  2013  2012  ...  2009  2008  2007  2006  2014\n",
            "0         ANF   27.0   TLW  1633  1716  ...   853   964  1363  1193   993\n",
            "1         ANF  274.0   TLW   137   133  ...   140   185   181   141   217\n",
            "2         ANF  274.0   TLW     0     0  ...     0     0     0     0     0\n",
            "3         ANF  274.0   TLW   135   131  ...   134   181   179   138   213\n",
            "4         ANF  274.0   TLW     2     2  ...     6     4     3     3     4\n",
            "...       ...    ...   ...   ...   ...  ...   ...   ...   ...   ...   ...\n",
            "49104     WHG  277.0   TLW     0     0  ...     0     0     0     0     1\n",
            "49105     WHG  277.0   TLW     0     0  ...     0     0     0     0     1\n",
            "49106     WRA   27.0   TLW     0     0  ...     0     0     0     0    14\n",
            "49107     WRA  277.0   TLW     0     0  ...     0     0     0     0    14\n",
            "49108     WRA  277.0   TLW     0     0  ...     0     0     0     0    14\n",
            "\n",
            "[49109 rows x 12 columns]\n"
          ],
          "name": "stdout"
        }
      ]
    },
    {
      "cell_type": "code",
      "metadata": {
        "id": "4blQuA1JO5lT"
      },
      "source": [
        "X=dataset.iloc[:,1:-1].values\n",
        "y = dataset.iloc[:, -1].values"
      ],
      "execution_count": 41,
      "outputs": []
    },
    {
      "cell_type": "code",
      "metadata": {
        "colab": {
          "base_uri": "https://localhost:8080/"
        },
        "id": "VuzNCp9rPbis",
        "outputId": "76653dad-8886-436c-d6a9-b6921f3cb819"
      },
      "source": [
        "# print(X)\n",
        "print(y)"
      ],
      "execution_count": 42,
      "outputs": [
        {
          "output_type": "stream",
          "text": [
            "[993 217   0 ...  14  14  14]\n"
          ],
          "name": "stdout"
        }
      ]
    },
    {
      "cell_type": "code",
      "metadata": {
        "id": "guUvu-TXPi-D"
      },
      "source": [
        "from sklearn.preprocessing import LabelEncoder\n",
        "le = LabelEncoder()\n",
        "X[:, 1] = le.fit_transform(X[:, 1])"
      ],
      "execution_count": 43,
      "outputs": []
    },
    {
      "cell_type": "code",
      "metadata": {
        "colab": {
          "base_uri": "https://localhost:8080/"
        },
        "id": "hSeASL4_QNH0",
        "outputId": "db1d52cf-d1e0-4afa-df7d-f69f0dd7a902"
      },
      "source": [
        "print(X)"
      ],
      "execution_count": 44,
      "outputs": [
        {
          "output_type": "stream",
          "text": [
            "[[27.0 0 1633 ... 964 1363 1193]\n",
            " [274.0 0 137 ... 185 181 141]\n",
            " [274.0 0 0 ... 0 0 0]\n",
            " ...\n",
            " [27.0 0 0 ... 0 0 0]\n",
            " [277.0 0 0 ... 0 0 0]\n",
            " [277.0 0 0 ... 0 0 0]]\n"
          ],
          "name": "stdout"
        }
      ]
    },
    {
      "cell_type": "code",
      "metadata": {
        "id": "8k-oW4O8QZaC"
      },
      "source": [
        "from sklearn.model_selection import train_test_split\n",
        "X_train, X_test, y_train, y_test = train_test_split(X, y, test_size = 0.2, random_state = 0)"
      ],
      "execution_count": 45,
      "outputs": []
    },
    {
      "cell_type": "code",
      "metadata": {
        "id": "ywNmsO1RQdys"
      },
      "source": [
        "from sklearn.preprocessing import StandardScaler\n",
        "sc = StandardScaler()\n",
        "X_train = sc.fit_transform(X_train)\n",
        "X_test = sc.transform(X_test)"
      ],
      "execution_count": 46,
      "outputs": []
    },
    {
      "cell_type": "code",
      "metadata": {
        "id": "TdrSp5gSVRY9"
      },
      "source": [
        "ann = tf.keras.models.Sequential()"
      ],
      "execution_count": 47,
      "outputs": []
    },
    {
      "cell_type": "code",
      "metadata": {
        "id": "RVF3dmheVU9W"
      },
      "source": [
        "ann.add(tf.keras.layers.Dense(units=6, activation='relu'))"
      ],
      "execution_count": 48,
      "outputs": []
    },
    {
      "cell_type": "code",
      "metadata": {
        "id": "X3UwZcaEVZqW"
      },
      "source": [
        "ann.add(tf.keras.layers.Dense(units=6, activation='relu'))"
      ],
      "execution_count": 49,
      "outputs": []
    },
    {
      "cell_type": "code",
      "metadata": {
        "id": "dyySh0aaVf0n"
      },
      "source": [
        "ann.add(tf.keras.layers.Dense(units=1, activation='sigmoid'))"
      ],
      "execution_count": 50,
      "outputs": []
    },
    {
      "cell_type": "code",
      "metadata": {
        "id": "he-xBL6qVjg2"
      },
      "source": [
        "ann.compile(optimizer = 'adam', loss = 'binary_crossentropy', metrics = ['accuracy'])"
      ],
      "execution_count": 51,
      "outputs": []
    },
    {
      "cell_type": "code",
      "metadata": {
        "colab": {
          "base_uri": "https://localhost:8080/"
        },
        "id": "-lmh4FQXVm51",
        "outputId": "6f582a7b-f5e2-4fe3-cc29-014575b09562"
      },
      "source": [
        "ann.fit(X_train, y_train, batch_size = 32, epochs = 100)"
      ],
      "execution_count": 52,
      "outputs": [
        {
          "output_type": "stream",
          "text": [
            "Epoch 1/100\n",
            "1228/1228 [==============================] - 3s 1ms/step - loss: -21474.6094 - accuracy: 0.0412\n",
            "Epoch 2/100\n",
            "1228/1228 [==============================] - 2s 1ms/step - loss: -351356.8125 - accuracy: 0.0398\n",
            "Epoch 3/100\n",
            "1228/1228 [==============================] - 1s 1ms/step - loss: -1088274.0000 - accuracy: 0.0398\n",
            "Epoch 4/100\n",
            "1228/1228 [==============================] - 1s 1ms/step - loss: -2247966.2500 - accuracy: 0.0398\n",
            "Epoch 5/100\n",
            "1228/1228 [==============================] - 2s 1ms/step - loss: -3878128.7500 - accuracy: 0.0398\n",
            "Epoch 6/100\n",
            "1228/1228 [==============================] - 1s 1ms/step - loss: -6306969.0000 - accuracy: 0.0398\n",
            "Epoch 7/100\n",
            "1228/1228 [==============================] - 2s 1ms/step - loss: -9603163.0000 - accuracy: 0.0398\n",
            "Epoch 8/100\n",
            "1228/1228 [==============================] - 1s 1ms/step - loss: -13686255.0000 - accuracy: 0.0398\n",
            "Epoch 9/100\n",
            "1228/1228 [==============================] - 1s 1ms/step - loss: -18892498.0000 - accuracy: 0.0398\n",
            "Epoch 10/100\n",
            "1228/1228 [==============================] - 2s 1ms/step - loss: -25078778.0000 - accuracy: 0.0398\n",
            "Epoch 11/100\n",
            "1228/1228 [==============================] - 1s 1ms/step - loss: -32323716.0000 - accuracy: 0.0398\n",
            "Epoch 12/100\n",
            "1228/1228 [==============================] - 1s 1ms/step - loss: -40799384.0000 - accuracy: 0.0398\n",
            "Epoch 13/100\n",
            "1228/1228 [==============================] - 1s 1ms/step - loss: -50093152.0000 - accuracy: 0.0398\n",
            "Epoch 14/100\n",
            "1228/1228 [==============================] - 2s 1ms/step - loss: -61041272.0000 - accuracy: 0.0398\n",
            "Epoch 15/100\n",
            "1228/1228 [==============================] - 1s 1ms/step - loss: -73138080.0000 - accuracy: 0.0398\n",
            "Epoch 16/100\n",
            "1228/1228 [==============================] - 2s 1ms/step - loss: -85971480.0000 - accuracy: 0.0398\n",
            "Epoch 17/100\n",
            "1228/1228 [==============================] - 1s 1ms/step - loss: -100930696.0000 - accuracy: 0.0398\n",
            "Epoch 18/100\n",
            "1228/1228 [==============================] - 1s 1ms/step - loss: -118739240.0000 - accuracy: 0.0398\n",
            "Epoch 19/100\n",
            "1228/1228 [==============================] - 2s 1ms/step - loss: -137730048.0000 - accuracy: 0.0398\n",
            "Epoch 20/100\n",
            "1228/1228 [==============================] - 1s 1ms/step - loss: -158084976.0000 - accuracy: 0.0398\n",
            "Epoch 21/100\n",
            "1228/1228 [==============================] - 1s 1ms/step - loss: -179165552.0000 - accuracy: 0.0398\n",
            "Epoch 22/100\n",
            "1228/1228 [==============================] - 1s 1ms/step - loss: -202505600.0000 - accuracy: 0.0398\n",
            "Epoch 23/100\n",
            "1228/1228 [==============================] - 2s 1ms/step - loss: -230116224.0000 - accuracy: 0.0398\n",
            "Epoch 24/100\n",
            "1228/1228 [==============================] - 2s 1ms/step - loss: -258897760.0000 - accuracy: 0.0398\n",
            "Epoch 25/100\n",
            "1228/1228 [==============================] - 1s 1ms/step - loss: -287075200.0000 - accuracy: 0.0398\n",
            "Epoch 26/100\n",
            "1228/1228 [==============================] - 1s 1ms/step - loss: -318022144.0000 - accuracy: 0.0398\n",
            "Epoch 27/100\n",
            "1228/1228 [==============================] - 1s 1ms/step - loss: -353882496.0000 - accuracy: 0.0398\n",
            "Epoch 28/100\n",
            "1228/1228 [==============================] - 1s 1ms/step - loss: -391492608.0000 - accuracy: 0.0398\n",
            "Epoch 29/100\n",
            "1228/1228 [==============================] - 1s 1ms/step - loss: -429671936.0000 - accuracy: 0.0398\n",
            "Epoch 30/100\n",
            "1228/1228 [==============================] - 1s 1ms/step - loss: -468852352.0000 - accuracy: 0.0398\n",
            "Epoch 31/100\n",
            "1228/1228 [==============================] - 2s 1ms/step - loss: -511026560.0000 - accuracy: 0.0398\n",
            "Epoch 32/100\n",
            "1228/1228 [==============================] - 1s 1ms/step - loss: -561097280.0000 - accuracy: 0.0398\n",
            "Epoch 33/100\n",
            "1228/1228 [==============================] - 1s 1ms/step - loss: -610437504.0000 - accuracy: 0.0398\n",
            "Epoch 34/100\n",
            "1228/1228 [==============================] - 1s 1ms/step - loss: -662692800.0000 - accuracy: 0.0398\n",
            "Epoch 35/100\n",
            "1228/1228 [==============================] - 1s 1ms/step - loss: -717301056.0000 - accuracy: 0.0398\n",
            "Epoch 36/100\n",
            "1228/1228 [==============================] - 1s 1ms/step - loss: -774163840.0000 - accuracy: 0.0398\n",
            "Epoch 37/100\n",
            "1228/1228 [==============================] - 1s 1ms/step - loss: -833946368.0000 - accuracy: 0.0398\n",
            "Epoch 38/100\n",
            "1228/1228 [==============================] - 1s 1ms/step - loss: -895865088.0000 - accuracy: 0.0398\n",
            "Epoch 39/100\n",
            "1228/1228 [==============================] - 1s 1ms/step - loss: -966362752.0000 - accuracy: 0.0398\n",
            "Epoch 40/100\n",
            "1228/1228 [==============================] - 1s 1ms/step - loss: -1039916096.0000 - accuracy: 0.0398\n",
            "Epoch 41/100\n",
            "1228/1228 [==============================] - 1s 1ms/step - loss: -1114492032.0000 - accuracy: 0.0398\n",
            "Epoch 42/100\n",
            "1228/1228 [==============================] - 1s 1ms/step - loss: -1189652480.0000 - accuracy: 0.0398\n",
            "Epoch 43/100\n",
            "1228/1228 [==============================] - 2s 1ms/step - loss: -1268511232.0000 - accuracy: 0.0398\n",
            "Epoch 44/100\n",
            "1228/1228 [==============================] - 1s 1ms/step - loss: -1349639680.0000 - accuracy: 0.0398\n",
            "Epoch 45/100\n",
            "1228/1228 [==============================] - 1s 1ms/step - loss: -1434391936.0000 - accuracy: 0.0398\n",
            "Epoch 46/100\n",
            "1228/1228 [==============================] - 1s 1ms/step - loss: -1524169088.0000 - accuracy: 0.0398\n",
            "Epoch 47/100\n",
            "1228/1228 [==============================] - 1s 1ms/step - loss: -1622411392.0000 - accuracy: 0.0398\n",
            "Epoch 48/100\n",
            "1228/1228 [==============================] - 2s 1ms/step - loss: -1722756608.0000 - accuracy: 0.0398\n",
            "Epoch 49/100\n",
            "1228/1228 [==============================] - 1s 1ms/step - loss: -1820164352.0000 - accuracy: 0.0398\n",
            "Epoch 50/100\n",
            "1228/1228 [==============================] - 2s 1ms/step - loss: -1925115136.0000 - accuracy: 0.0398\n",
            "Epoch 51/100\n",
            "1228/1228 [==============================] - 1s 1ms/step - loss: -2035033344.0000 - accuracy: 0.0398\n",
            "Epoch 52/100\n",
            "1228/1228 [==============================] - 2s 1ms/step - loss: -2148207872.0000 - accuracy: 0.0398\n",
            "Epoch 53/100\n",
            "1228/1228 [==============================] - 1s 1ms/step - loss: -2261777408.0000 - accuracy: 0.0398\n",
            "Epoch 54/100\n",
            "1228/1228 [==============================] - 1s 1ms/step - loss: -2382496768.0000 - accuracy: 0.0398\n",
            "Epoch 55/100\n",
            "1228/1228 [==============================] - 1s 1ms/step - loss: -2507850240.0000 - accuracy: 0.0398\n",
            "Epoch 56/100\n",
            "1228/1228 [==============================] - 1s 1ms/step - loss: -2643382528.0000 - accuracy: 0.0398\n",
            "Epoch 57/100\n",
            "1228/1228 [==============================] - 2s 1ms/step - loss: -2776306688.0000 - accuracy: 0.0398\n",
            "Epoch 58/100\n",
            "1228/1228 [==============================] - 1s 1ms/step - loss: -2910005760.0000 - accuracy: 0.0398\n",
            "Epoch 59/100\n",
            "1228/1228 [==============================] - 1s 1ms/step - loss: -3054971136.0000 - accuracy: 0.0398\n",
            "Epoch 60/100\n",
            "1228/1228 [==============================] - 1s 1ms/step - loss: -3200781312.0000 - accuracy: 0.0398\n",
            "Epoch 61/100\n",
            "1228/1228 [==============================] - 1s 1ms/step - loss: -3345785600.0000 - accuracy: 0.0398\n",
            "Epoch 62/100\n",
            "1228/1228 [==============================] - 1s 1ms/step - loss: -3496456192.0000 - accuracy: 0.0398\n",
            "Epoch 63/100\n",
            "1228/1228 [==============================] - 2s 1ms/step - loss: -3639381248.0000 - accuracy: 0.0398\n",
            "Epoch 64/100\n",
            "1228/1228 [==============================] - 1s 1ms/step - loss: -3801712384.0000 - accuracy: 0.0398\n",
            "Epoch 65/100\n",
            "1228/1228 [==============================] - 1s 1ms/step - loss: -3979190784.0000 - accuracy: 0.0398\n",
            "Epoch 66/100\n",
            "1228/1228 [==============================] - 1s 1ms/step - loss: -4159252736.0000 - accuracy: 0.0398\n",
            "Epoch 67/100\n",
            "1228/1228 [==============================] - 2s 1ms/step - loss: -4334070784.0000 - accuracy: 0.0398\n",
            "Epoch 68/100\n",
            "1228/1228 [==============================] - 1s 1ms/step - loss: -4516418560.0000 - accuracy: 0.0398\n",
            "Epoch 69/100\n",
            "1228/1228 [==============================] - 2s 1ms/step - loss: -4715211264.0000 - accuracy: 0.0398\n",
            "Epoch 70/100\n",
            "1228/1228 [==============================] - 2s 1ms/step - loss: -4913584128.0000 - accuracy: 0.0398\n",
            "Epoch 71/100\n",
            "1228/1228 [==============================] - 1s 1ms/step - loss: -5103391744.0000 - accuracy: 0.0398\n",
            "Epoch 72/100\n",
            "1228/1228 [==============================] - 1s 1ms/step - loss: -5300378624.0000 - accuracy: 0.0398\n",
            "Epoch 73/100\n",
            "1228/1228 [==============================] - 2s 1ms/step - loss: -5519552000.0000 - accuracy: 0.0398\n",
            "Epoch 74/100\n",
            "1228/1228 [==============================] - 1s 1ms/step - loss: -5735855616.0000 - accuracy: 0.0398\n",
            "Epoch 75/100\n",
            "1228/1228 [==============================] - 1s 1ms/step - loss: -5955681792.0000 - accuracy: 0.0398\n",
            "Epoch 76/100\n",
            "1228/1228 [==============================] - 2s 1ms/step - loss: -6201633792.0000 - accuracy: 0.0398\n",
            "Epoch 77/100\n",
            "1228/1228 [==============================] - 2s 1ms/step - loss: -6446176256.0000 - accuracy: 0.0398\n",
            "Epoch 78/100\n",
            "1228/1228 [==============================] - 1s 1ms/step - loss: -6677379584.0000 - accuracy: 0.0398\n",
            "Epoch 79/100\n",
            "1228/1228 [==============================] - 1s 1ms/step - loss: -6920643072.0000 - accuracy: 0.0398\n",
            "Epoch 80/100\n",
            "1228/1228 [==============================] - 2s 1ms/step - loss: -7181809152.0000 - accuracy: 0.0398\n",
            "Epoch 81/100\n",
            "1228/1228 [==============================] - 1s 1ms/step - loss: -7447601152.0000 - accuracy: 0.0398\n",
            "Epoch 82/100\n",
            "1228/1228 [==============================] - 2s 1ms/step - loss: -7713711104.0000 - accuracy: 0.0398\n",
            "Epoch 83/100\n",
            "1228/1228 [==============================] - 1s 1ms/step - loss: -7981433344.0000 - accuracy: 0.0398\n",
            "Epoch 84/100\n",
            "1228/1228 [==============================] - 1s 1ms/step - loss: -8246694912.0000 - accuracy: 0.0398\n",
            "Epoch 85/100\n",
            "1228/1228 [==============================] - 1s 1ms/step - loss: -8531534848.0000 - accuracy: 0.0398\n",
            "Epoch 86/100\n",
            "1228/1228 [==============================] - 1s 1ms/step - loss: -8817308672.0000 - accuracy: 0.0398\n",
            "Epoch 87/100\n",
            "1228/1228 [==============================] - 1s 1ms/step - loss: -9120054272.0000 - accuracy: 0.0398\n",
            "Epoch 88/100\n",
            "1228/1228 [==============================] - 2s 1ms/step - loss: -9410006016.0000 - accuracy: 0.0398\n",
            "Epoch 89/100\n",
            "1228/1228 [==============================] - 1s 1ms/step - loss: -9740859392.0000 - accuracy: 0.0398\n",
            "Epoch 90/100\n",
            "1228/1228 [==============================] - 1s 1ms/step - loss: -10064652288.0000 - accuracy: 0.0398\n",
            "Epoch 91/100\n",
            "1228/1228 [==============================] - 1s 1ms/step - loss: -10373635072.0000 - accuracy: 0.0398\n",
            "Epoch 92/100\n",
            "1228/1228 [==============================] - 2s 1ms/step - loss: -10693998592.0000 - accuracy: 0.0398\n",
            "Epoch 93/100\n",
            "1228/1228 [==============================] - 2s 1ms/step - loss: -11024275456.0000 - accuracy: 0.0398\n",
            "Epoch 94/100\n",
            "1228/1228 [==============================] - 1s 1ms/step - loss: -11386704896.0000 - accuracy: 0.0398\n",
            "Epoch 95/100\n",
            "1228/1228 [==============================] - 2s 1ms/step - loss: -11748779008.0000 - accuracy: 0.0398\n",
            "Epoch 96/100\n",
            "1228/1228 [==============================] - 1s 1ms/step - loss: -12103503872.0000 - accuracy: 0.0398\n",
            "Epoch 97/100\n",
            "1228/1228 [==============================] - 2s 1ms/step - loss: -12458437632.0000 - accuracy: 0.0398\n",
            "Epoch 98/100\n",
            "1228/1228 [==============================] - 1s 1ms/step - loss: -12813026304.0000 - accuracy: 0.0398\n",
            "Epoch 99/100\n",
            "1228/1228 [==============================] - 2s 1ms/step - loss: -13177935872.0000 - accuracy: 0.0398\n",
            "Epoch 100/100\n",
            "1228/1228 [==============================] - 1s 1ms/step - loss: -13569848320.0000 - accuracy: 0.0398\n"
          ],
          "name": "stdout"
        },
        {
          "output_type": "execute_result",
          "data": {
            "text/plain": [
              "<keras.callbacks.History at 0x7f13ba170d50>"
            ]
          },
          "metadata": {},
          "execution_count": 52
        }
      ]
    },
    {
      "cell_type": "code",
      "metadata": {
        "colab": {
          "base_uri": "https://localhost:8080/"
        },
        "id": "4mvkBvtxWk9X",
        "outputId": "1c5c552e-2f0b-4ea5-be9c-ef975296751e"
      },
      "source": [
        "y_pred = ann.predict(X_test)\n",
        "y_pred = (y_pred > 0.5)\n",
        "print(np.concatenate((y_pred.reshape(len(y_pred),1), y_test.reshape(len(y_test),1)),1))"
      ],
      "execution_count": 53,
      "outputs": [
        {
          "output_type": "stream",
          "text": [
            "[[  1   0]\n",
            " [  1   0]\n",
            " [  1 231]\n",
            " ...\n",
            " [  1   0]\n",
            " [  1   0]\n",
            " [  1   0]]\n"
          ],
          "name": "stdout"
        }
      ]
    },
    {
      "cell_type": "code",
      "metadata": {
        "colab": {
          "base_uri": "https://localhost:8080/"
        },
        "id": "3vHFv-7MWp9n",
        "outputId": "db1733fa-b8d2-4c2a-d1ce-466b9cf89a4f"
      },
      "source": [
        "from sklearn.metrics import confusion_matrix, accuracy_score\n",
        "cm = confusion_matrix(y_test, y_pred)\n",
        "print(cm)\n",
        "accuracy_score(y_test, y_pred)"
      ],
      "execution_count": 54,
      "outputs": [
        {
          "output_type": "stream",
          "text": [
            "[[   0 7136    0 ...    0    0    0]\n",
            " [   0  387    0 ...    0    0    0]\n",
            " [   0  141    0 ...    0    0    0]\n",
            " ...\n",
            " [   0    1    0 ...    0    0    0]\n",
            " [   0    1    0 ...    0    0    0]\n",
            " [   0    1    0 ...    0    0    0]]\n"
          ],
          "name": "stdout"
        },
        {
          "output_type": "execute_result",
          "data": {
            "text/plain": [
              "0.039401343921808184"
            ]
          },
          "metadata": {},
          "execution_count": 54
        }
      ]
    }
  ]
}