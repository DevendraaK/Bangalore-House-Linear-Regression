{
  "nbformat": 4,
  "nbformat_minor": 0,
  "metadata": {
    "colab": {
      "name": "Tutorial_Pandas.ipynb",
      "provenance": [],
      "authorship_tag": "ABX9TyOswn/H6qHeoS9ue2BjQn3H",
      "include_colab_link": true
    },
    "kernelspec": {
      "name": "python3",
      "display_name": "Python 3"
    }
  },
  "cells": [
    {
      "cell_type": "markdown",
      "metadata": {
        "id": "view-in-github",
        "colab_type": "text"
      },
      "source": [
        "<a href=\"https://colab.research.google.com/github/DevendraaK/Bangalore-House-Linear-Regression/blob/main/Tutorial_Pandas.ipynb\" target=\"_parent\"><img src=\"https://colab.research.google.com/assets/colab-badge.svg\" alt=\"Open In Colab\"/></a>"
      ]
    },
    {
      "cell_type": "code",
      "metadata": {
        "id": "MRPeP-8mKWQV"
      },
      "source": [
        "import pandas as pd"
      ],
      "execution_count": null,
      "outputs": []
    },
    {
      "cell_type": "code",
      "metadata": {
        "id": "f6GXV9hGK0aU"
      },
      "source": [
        "import numpy as np"
      ],
      "execution_count": null,
      "outputs": []
    },
    {
      "cell_type": "code",
      "metadata": {
        "id": "Mv2ns1E0K6aI"
      },
      "source": [
        "a=np.array([10,20,30,40,50])"
      ],
      "execution_count": null,
      "outputs": []
    },
    {
      "cell_type": "code",
      "metadata": {
        "id": "A9QSswnqLC5q",
        "colab": {
          "base_uri": "https://localhost:8080/",
          "height": 34
        },
        "outputId": "b9ef007e-77e8-4a8d-ce4e-641b9a801893"
      },
      "source": [
        "a"
      ],
      "execution_count": null,
      "outputs": [
        {
          "output_type": "execute_result",
          "data": {
            "text/plain": [
              "array([10, 20, 30, 40, 50])"
            ]
          },
          "metadata": {
            "tags": []
          },
          "execution_count": 7
        }
      ]
    },
    {
      "cell_type": "code",
      "metadata": {
        "id": "AwkV-rjwLe_k",
        "colab": {
          "base_uri": "https://localhost:8080/",
          "height": 119
        },
        "outputId": "d4b5f087-e9cf-4cc5-e68a-a002b3861dc0"
      },
      "source": [
        "data=pd.Series(a)\n",
        "print(data)"
      ],
      "execution_count": null,
      "outputs": [
        {
          "output_type": "stream",
          "text": [
            "0    10\n",
            "1    20\n",
            "2    30\n",
            "3    40\n",
            "4    50\n",
            "dtype: int64\n"
          ],
          "name": "stdout"
        }
      ]
    },
    {
      "cell_type": "code",
      "metadata": {
        "id": "cew3ll58McwA"
      },
      "source": [
        "data = pd.DataFrame({'name':pd.Series(['a','b','c','d']),\n",
        "                     'age':pd.Series([10,20,30,40])})"
      ],
      "execution_count": null,
      "outputs": []
    },
    {
      "cell_type": "code",
      "metadata": {
        "id": "VfUx0yQINgRS",
        "colab": {
          "base_uri": "https://localhost:8080/",
          "height": 173
        },
        "outputId": "3bccec3a-0591-4875-f401-469beb5095e5"
      },
      "source": [
        "data"
      ],
      "execution_count": null,
      "outputs": [
        {
          "output_type": "execute_result",
          "data": {
            "text/html": [
              "<div>\n",
              "<style scoped>\n",
              "    .dataframe tbody tr th:only-of-type {\n",
              "        vertical-align: middle;\n",
              "    }\n",
              "\n",
              "    .dataframe tbody tr th {\n",
              "        vertical-align: top;\n",
              "    }\n",
              "\n",
              "    .dataframe thead th {\n",
              "        text-align: right;\n",
              "    }\n",
              "</style>\n",
              "<table border=\"1\" class=\"dataframe\">\n",
              "  <thead>\n",
              "    <tr style=\"text-align: right;\">\n",
              "      <th></th>\n",
              "      <th>name</th>\n",
              "      <th>age</th>\n",
              "    </tr>\n",
              "  </thead>\n",
              "  <tbody>\n",
              "    <tr>\n",
              "      <th>0</th>\n",
              "      <td>a</td>\n",
              "      <td>10</td>\n",
              "    </tr>\n",
              "    <tr>\n",
              "      <th>1</th>\n",
              "      <td>b</td>\n",
              "      <td>20</td>\n",
              "    </tr>\n",
              "    <tr>\n",
              "      <th>2</th>\n",
              "      <td>c</td>\n",
              "      <td>30</td>\n",
              "    </tr>\n",
              "    <tr>\n",
              "      <th>3</th>\n",
              "      <td>d</td>\n",
              "      <td>40</td>\n",
              "    </tr>\n",
              "  </tbody>\n",
              "</table>\n",
              "</div>"
            ],
            "text/plain": [
              "  name  age\n",
              "0    a   10\n",
              "1    b   20\n",
              "2    c   30\n",
              "3    d   40"
            ]
          },
          "metadata": {
            "tags": []
          },
          "execution_count": 15
        }
      ]
    },
    {
      "cell_type": "code",
      "metadata": {
        "id": "kMfqzkeOWoM9"
      },
      "source": [
        ""
      ],
      "execution_count": null,
      "outputs": []
    },
    {
      "cell_type": "code",
      "metadata": {
        "id": "D42yg1JNWqGP"
      },
      "source": [
        ""
      ],
      "execution_count": null,
      "outputs": []
    },
    {
      "cell_type": "code",
      "metadata": {
        "id": "o7qRBI8yOJtG",
        "colab": {
          "base_uri": "https://localhost:8080/",
          "height": 34
        },
        "outputId": "63b9e7f5-c430-4a5d-dc09-40ef2812ba51"
      },
      "source": [
        "data.columns"
      ],
      "execution_count": null,
      "outputs": [
        {
          "output_type": "execute_result",
          "data": {
            "text/plain": [
              "Index(['name', 'age'], dtype='object')"
            ]
          },
          "metadata": {
            "tags": []
          },
          "execution_count": 17
        }
      ]
    },
    {
      "cell_type": "code",
      "metadata": {
        "id": "ieoyi_IBP6mE",
        "colab": {
          "base_uri": "https://localhost:8080/",
          "height": 34
        },
        "outputId": "dd3ca7de-65b6-407e-81f9-997cf09420f3"
      },
      "source": [
        "data.shape"
      ],
      "execution_count": null,
      "outputs": [
        {
          "output_type": "execute_result",
          "data": {
            "text/plain": [
              "(4, 2)"
            ]
          },
          "metadata": {
            "tags": []
          },
          "execution_count": 18
        }
      ]
    },
    {
      "cell_type": "code",
      "metadata": {
        "id": "44BkkIEOQJLy"
      },
      "source": [
        "import pandas as pd\n",
        "data=pd.read_csv('https://archive.ics.uci.edu/ml/machine-learning-databases/breast-cancer-wisconsin/breast-cancer-wisconsin.data')"
      ],
      "execution_count": null,
      "outputs": []
    },
    {
      "cell_type": "code",
      "metadata": {
        "id": "4o4VBdpBRt0V",
        "colab": {
          "base_uri": "https://localhost:8080/",
          "height": 34
        },
        "outputId": "c85cbd6b-dec9-4caa-d57b-49a7da403744"
      },
      "source": [
        "data.shape"
      ],
      "execution_count": null,
      "outputs": [
        {
          "output_type": "execute_result",
          "data": {
            "text/plain": [
              "(698, 11)"
            ]
          },
          "metadata": {
            "tags": []
          },
          "execution_count": 5
        }
      ]
    },
    {
      "cell_type": "code",
      "metadata": {
        "id": "h6HHDmyVRy8S",
        "colab": {
          "base_uri": "https://localhost:8080/",
          "height": 221
        },
        "outputId": "6d751726-d96a-43df-e180-0baa5a7017ad"
      },
      "source": [
        "data.dtypes"
      ],
      "execution_count": null,
      "outputs": [
        {
          "output_type": "execute_result",
          "data": {
            "text/plain": [
              "1000025     int64\n",
              "5           int64\n",
              "1           int64\n",
              "1.1         int64\n",
              "1.2         int64\n",
              "2           int64\n",
              "1.3        object\n",
              "3           int64\n",
              "1.4         int64\n",
              "1.5         int64\n",
              "2.1         int64\n",
              "dtype: object"
            ]
          },
          "metadata": {
            "tags": []
          },
          "execution_count": 6
        }
      ]
    },
    {
      "cell_type": "code",
      "metadata": {
        "id": "Ju_Fppk1SDDv",
        "colab": {
          "base_uri": "https://localhost:8080/",
          "height": 359
        },
        "outputId": "61e13958-9e29-443d-a657-4015800bf650"
      },
      "source": [
        "data.head(10)"
      ],
      "execution_count": null,
      "outputs": [
        {
          "output_type": "execute_result",
          "data": {
            "text/html": [
              "<div>\n",
              "<style scoped>\n",
              "    .dataframe tbody tr th:only-of-type {\n",
              "        vertical-align: middle;\n",
              "    }\n",
              "\n",
              "    .dataframe tbody tr th {\n",
              "        vertical-align: top;\n",
              "    }\n",
              "\n",
              "    .dataframe thead th {\n",
              "        text-align: right;\n",
              "    }\n",
              "</style>\n",
              "<table border=\"1\" class=\"dataframe\">\n",
              "  <thead>\n",
              "    <tr style=\"text-align: right;\">\n",
              "      <th></th>\n",
              "      <th>1000025</th>\n",
              "      <th>5</th>\n",
              "      <th>1</th>\n",
              "      <th>1.1</th>\n",
              "      <th>1.2</th>\n",
              "      <th>2</th>\n",
              "      <th>1.3</th>\n",
              "      <th>3</th>\n",
              "      <th>1.4</th>\n",
              "      <th>1.5</th>\n",
              "      <th>2.1</th>\n",
              "    </tr>\n",
              "  </thead>\n",
              "  <tbody>\n",
              "    <tr>\n",
              "      <th>0</th>\n",
              "      <td>1002945</td>\n",
              "      <td>5</td>\n",
              "      <td>4</td>\n",
              "      <td>4</td>\n",
              "      <td>5</td>\n",
              "      <td>7</td>\n",
              "      <td>10</td>\n",
              "      <td>3</td>\n",
              "      <td>2</td>\n",
              "      <td>1</td>\n",
              "      <td>2</td>\n",
              "    </tr>\n",
              "    <tr>\n",
              "      <th>1</th>\n",
              "      <td>1015425</td>\n",
              "      <td>3</td>\n",
              "      <td>1</td>\n",
              "      <td>1</td>\n",
              "      <td>1</td>\n",
              "      <td>2</td>\n",
              "      <td>2</td>\n",
              "      <td>3</td>\n",
              "      <td>1</td>\n",
              "      <td>1</td>\n",
              "      <td>2</td>\n",
              "    </tr>\n",
              "    <tr>\n",
              "      <th>2</th>\n",
              "      <td>1016277</td>\n",
              "      <td>6</td>\n",
              "      <td>8</td>\n",
              "      <td>8</td>\n",
              "      <td>1</td>\n",
              "      <td>3</td>\n",
              "      <td>4</td>\n",
              "      <td>3</td>\n",
              "      <td>7</td>\n",
              "      <td>1</td>\n",
              "      <td>2</td>\n",
              "    </tr>\n",
              "    <tr>\n",
              "      <th>3</th>\n",
              "      <td>1017023</td>\n",
              "      <td>4</td>\n",
              "      <td>1</td>\n",
              "      <td>1</td>\n",
              "      <td>3</td>\n",
              "      <td>2</td>\n",
              "      <td>1</td>\n",
              "      <td>3</td>\n",
              "      <td>1</td>\n",
              "      <td>1</td>\n",
              "      <td>2</td>\n",
              "    </tr>\n",
              "    <tr>\n",
              "      <th>4</th>\n",
              "      <td>1017122</td>\n",
              "      <td>8</td>\n",
              "      <td>10</td>\n",
              "      <td>10</td>\n",
              "      <td>8</td>\n",
              "      <td>7</td>\n",
              "      <td>10</td>\n",
              "      <td>9</td>\n",
              "      <td>7</td>\n",
              "      <td>1</td>\n",
              "      <td>4</td>\n",
              "    </tr>\n",
              "    <tr>\n",
              "      <th>5</th>\n",
              "      <td>1018099</td>\n",
              "      <td>1</td>\n",
              "      <td>1</td>\n",
              "      <td>1</td>\n",
              "      <td>1</td>\n",
              "      <td>2</td>\n",
              "      <td>10</td>\n",
              "      <td>3</td>\n",
              "      <td>1</td>\n",
              "      <td>1</td>\n",
              "      <td>2</td>\n",
              "    </tr>\n",
              "    <tr>\n",
              "      <th>6</th>\n",
              "      <td>1018561</td>\n",
              "      <td>2</td>\n",
              "      <td>1</td>\n",
              "      <td>2</td>\n",
              "      <td>1</td>\n",
              "      <td>2</td>\n",
              "      <td>1</td>\n",
              "      <td>3</td>\n",
              "      <td>1</td>\n",
              "      <td>1</td>\n",
              "      <td>2</td>\n",
              "    </tr>\n",
              "    <tr>\n",
              "      <th>7</th>\n",
              "      <td>1033078</td>\n",
              "      <td>2</td>\n",
              "      <td>1</td>\n",
              "      <td>1</td>\n",
              "      <td>1</td>\n",
              "      <td>2</td>\n",
              "      <td>1</td>\n",
              "      <td>1</td>\n",
              "      <td>1</td>\n",
              "      <td>5</td>\n",
              "      <td>2</td>\n",
              "    </tr>\n",
              "    <tr>\n",
              "      <th>8</th>\n",
              "      <td>1033078</td>\n",
              "      <td>4</td>\n",
              "      <td>2</td>\n",
              "      <td>1</td>\n",
              "      <td>1</td>\n",
              "      <td>2</td>\n",
              "      <td>1</td>\n",
              "      <td>2</td>\n",
              "      <td>1</td>\n",
              "      <td>1</td>\n",
              "      <td>2</td>\n",
              "    </tr>\n",
              "    <tr>\n",
              "      <th>9</th>\n",
              "      <td>1035283</td>\n",
              "      <td>1</td>\n",
              "      <td>1</td>\n",
              "      <td>1</td>\n",
              "      <td>1</td>\n",
              "      <td>1</td>\n",
              "      <td>1</td>\n",
              "      <td>3</td>\n",
              "      <td>1</td>\n",
              "      <td>1</td>\n",
              "      <td>2</td>\n",
              "    </tr>\n",
              "  </tbody>\n",
              "</table>\n",
              "</div>"
            ],
            "text/plain": [
              "   1000025  5   1  1.1  1.2  2 1.3  3  1.4  1.5  2.1\n",
              "0  1002945  5   4    4    5  7  10  3    2    1    2\n",
              "1  1015425  3   1    1    1  2   2  3    1    1    2\n",
              "2  1016277  6   8    8    1  3   4  3    7    1    2\n",
              "3  1017023  4   1    1    3  2   1  3    1    1    2\n",
              "4  1017122  8  10   10    8  7  10  9    7    1    4\n",
              "5  1018099  1   1    1    1  2  10  3    1    1    2\n",
              "6  1018561  2   1    2    1  2   1  3    1    1    2\n",
              "7  1033078  2   1    1    1  2   1  1    1    5    2\n",
              "8  1033078  4   2    1    1  2   1  2    1    1    2\n",
              "9  1035283  1   1    1    1  1   1  3    1    1    2"
            ]
          },
          "metadata": {
            "tags": []
          },
          "execution_count": 7
        }
      ]
    },
    {
      "cell_type": "code",
      "metadata": {
        "id": "GMoosp1nSMvu",
        "colab": {
          "base_uri": "https://localhost:8080/",
          "height": 255
        },
        "outputId": "b34fa60c-659e-4a25-ac47-20c331a47965"
      },
      "source": [
        "data.head"
      ],
      "execution_count": null,
      "outputs": [
        {
          "output_type": "execute_result",
          "data": {
            "text/plain": [
              "<bound method NDFrame.head of      1000025  5   1  1.1  1.2  2 1.3   3  1.4  1.5  2.1\n",
              "0    1002945  5   4    4    5  7  10   3    2    1    2\n",
              "1    1015425  3   1    1    1  2   2   3    1    1    2\n",
              "2    1016277  6   8    8    1  3   4   3    7    1    2\n",
              "3    1017023  4   1    1    3  2   1   3    1    1    2\n",
              "4    1017122  8  10   10    8  7  10   9    7    1    4\n",
              "..       ... ..  ..  ...  ... ..  ..  ..  ...  ...  ...\n",
              "693   776715  3   1    1    1  3   2   1    1    1    2\n",
              "694   841769  2   1    1    1  2   1   1    1    1    2\n",
              "695   888820  5  10   10    3  7   3   8   10    2    4\n",
              "696   897471  4   8    6    4  3   4  10    6    1    4\n",
              "697   897471  4   8    8    5  4   5  10    4    1    4\n",
              "\n",
              "[698 rows x 11 columns]>"
            ]
          },
          "metadata": {
            "tags": []
          },
          "execution_count": 8
        }
      ]
    },
    {
      "cell_type": "code",
      "metadata": {
        "id": "qz2d-qB0STjV",
        "colab": {
          "base_uri": "https://localhost:8080/",
          "height": 68
        },
        "outputId": "0da6971a-e554-4eb6-c5ab-601c5f3a5df0"
      },
      "source": [
        "data.columns"
      ],
      "execution_count": null,
      "outputs": [
        {
          "output_type": "execute_result",
          "data": {
            "text/plain": [
              "Index(['1000025', '5', '1', '1.1', '1.2', '2', '1.3', '3', '1.4', '1.5',\n",
              "       '2.1'],\n",
              "      dtype='object')"
            ]
          },
          "metadata": {
            "tags": []
          },
          "execution_count": 9
        }
      ]
    },
    {
      "cell_type": "code",
      "metadata": {
        "id": "DRxhFc2bSYqn"
      },
      "source": [
        "data.columns=['Sample code number','Clump Thickness','Uniformity of Cell Size','Uniformity of Cell Shape','Marginal Adhesion','Single Epithelial Cell Size','Bare Nuclei','Bland Chromatin','Normal Nucleoli','Mitoses','class']"
      ],
      "execution_count": null,
      "outputs": []
    },
    {
      "cell_type": "code",
      "metadata": {
        "id": "hQPRwMIWXrOs"
      },
      "source": [
        ""
      ],
      "execution_count": null,
      "outputs": []
    },
    {
      "cell_type": "code",
      "metadata": {
        "id": "0U27KgbgTdxJ",
        "colab": {
          "base_uri": "https://localhost:8080/",
          "height": 102
        },
        "outputId": "bba8f1c3-2142-4320-afda-8445bfa799cf"
      },
      "source": [
        "data.columns"
      ],
      "execution_count": null,
      "outputs": [
        {
          "output_type": "execute_result",
          "data": {
            "text/plain": [
              "Index(['Sample code number', 'Clump Thickness', 'Uniformity of Cell Size',\n",
              "       'Uniformity of Cell Shape', 'Marginal Adhesion',\n",
              "       'Single Epithelial Cell Size', 'Bare Nuclei', 'Bland Chromatin',\n",
              "       'Normal Nucleoli', 'Mitoses', 'class'],\n",
              "      dtype='object')"
            ]
          },
          "metadata": {
            "tags": []
          },
          "execution_count": 11
        }
      ]
    },
    {
      "cell_type": "code",
      "metadata": {
        "id": "47L-FFsDWryo",
        "colab": {
          "base_uri": "https://localhost:8080/",
          "height": 255
        },
        "outputId": "4499d51e-30eb-45bf-8621-160d022800d1"
      },
      "source": [
        "data.head"
      ],
      "execution_count": null,
      "outputs": [
        {
          "output_type": "execute_result",
          "data": {
            "text/plain": [
              "<bound method NDFrame.head of      Sample code number  Clump Thickness  ...  Mitoses  class\n",
              "0               1002945                5  ...        1      2\n",
              "1               1015425                3  ...        1      2\n",
              "2               1016277                6  ...        1      2\n",
              "3               1017023                4  ...        1      2\n",
              "4               1017122                8  ...        1      4\n",
              "..                  ...              ...  ...      ...    ...\n",
              "693              776715                3  ...        1      2\n",
              "694              841769                2  ...        1      2\n",
              "695              888820                5  ...        2      4\n",
              "696              897471                4  ...        1      4\n",
              "697              897471                4  ...        1      4\n",
              "\n",
              "[698 rows x 11 columns]>"
            ]
          },
          "metadata": {
            "tags": []
          },
          "execution_count": 12
        }
      ]
    },
    {
      "cell_type": "code",
      "metadata": {
        "id": "m7sJQPtjZMJ_"
      },
      "source": [
        "data=pd.read_csv(\"https://bit.ly/imdbratings\")"
      ],
      "execution_count": null,
      "outputs": []
    },
    {
      "cell_type": "code",
      "metadata": {
        "id": "hvrVfgS-ZZI1",
        "colab": {
          "base_uri": "https://localhost:8080/",
          "height": 34
        },
        "outputId": "ab4663a2-201c-4307-cfe6-acc1df09b160"
      },
      "source": [
        "data.shape"
      ],
      "execution_count": null,
      "outputs": [
        {
          "output_type": "execute_result",
          "data": {
            "text/plain": [
              "(979, 6)"
            ]
          },
          "metadata": {
            "tags": []
          },
          "execution_count": 14
        }
      ]
    },
    {
      "cell_type": "code",
      "metadata": {
        "id": "cKrSdGqwZb3O",
        "colab": {
          "base_uri": "https://localhost:8080/",
          "height": 136
        },
        "outputId": "030935c7-7a3b-4fd7-b4c4-e69e26c7302a"
      },
      "source": [
        "data.dtypes"
      ],
      "execution_count": null,
      "outputs": [
        {
          "output_type": "execute_result",
          "data": {
            "text/plain": [
              "star_rating       float64\n",
              "title              object\n",
              "content_rating     object\n",
              "genre              object\n",
              "duration            int64\n",
              "actors_list        object\n",
              "dtype: object"
            ]
          },
          "metadata": {
            "tags": []
          },
          "execution_count": 15
        }
      ]
    },
    {
      "cell_type": "code",
      "metadata": {
        "id": "9ww69BAvaMrI"
      },
      "source": [
        ""
      ],
      "execution_count": null,
      "outputs": []
    },
    {
      "cell_type": "code",
      "metadata": {
        "id": "Z6uv3AEBZhGI",
        "colab": {
          "base_uri": "https://localhost:8080/",
          "height": 68
        },
        "outputId": "e911c168-180b-4812-82da-34a4e9cf19ce"
      },
      "source": [
        "data.columns"
      ],
      "execution_count": null,
      "outputs": [
        {
          "output_type": "execute_result",
          "data": {
            "text/plain": [
              "Index(['star_rating', 'title', 'content_rating', 'genre', 'duration',\n",
              "       'actors_list'],\n",
              "      dtype='object')"
            ]
          },
          "metadata": {
            "tags": []
          },
          "execution_count": 16
        }
      ]
    },
    {
      "cell_type": "code",
      "metadata": {
        "id": "osVSDLn4ZqDg",
        "colab": {
          "base_uri": "https://localhost:8080/",
          "height": 204
        },
        "outputId": "9c99d304-3c5f-4db9-c601-390f89f810fe"
      },
      "source": [
        "data.head()"
      ],
      "execution_count": null,
      "outputs": [
        {
          "output_type": "execute_result",
          "data": {
            "text/html": [
              "<div>\n",
              "<style scoped>\n",
              "    .dataframe tbody tr th:only-of-type {\n",
              "        vertical-align: middle;\n",
              "    }\n",
              "\n",
              "    .dataframe tbody tr th {\n",
              "        vertical-align: top;\n",
              "    }\n",
              "\n",
              "    .dataframe thead th {\n",
              "        text-align: right;\n",
              "    }\n",
              "</style>\n",
              "<table border=\"1\" class=\"dataframe\">\n",
              "  <thead>\n",
              "    <tr style=\"text-align: right;\">\n",
              "      <th></th>\n",
              "      <th>star_rating</th>\n",
              "      <th>title</th>\n",
              "      <th>content_rating</th>\n",
              "      <th>genre</th>\n",
              "      <th>duration</th>\n",
              "      <th>actors_list</th>\n",
              "    </tr>\n",
              "  </thead>\n",
              "  <tbody>\n",
              "    <tr>\n",
              "      <th>0</th>\n",
              "      <td>9.3</td>\n",
              "      <td>The Shawshank Redemption</td>\n",
              "      <td>R</td>\n",
              "      <td>Crime</td>\n",
              "      <td>142</td>\n",
              "      <td>[u'Tim Robbins', u'Morgan Freeman', u'Bob Gunt...</td>\n",
              "    </tr>\n",
              "    <tr>\n",
              "      <th>1</th>\n",
              "      <td>9.2</td>\n",
              "      <td>The Godfather</td>\n",
              "      <td>R</td>\n",
              "      <td>Crime</td>\n",
              "      <td>175</td>\n",
              "      <td>[u'Marlon Brando', u'Al Pacino', u'James Caan']</td>\n",
              "    </tr>\n",
              "    <tr>\n",
              "      <th>2</th>\n",
              "      <td>9.1</td>\n",
              "      <td>The Godfather: Part II</td>\n",
              "      <td>R</td>\n",
              "      <td>Crime</td>\n",
              "      <td>200</td>\n",
              "      <td>[u'Al Pacino', u'Robert De Niro', u'Robert Duv...</td>\n",
              "    </tr>\n",
              "    <tr>\n",
              "      <th>3</th>\n",
              "      <td>9.0</td>\n",
              "      <td>The Dark Knight</td>\n",
              "      <td>PG-13</td>\n",
              "      <td>Action</td>\n",
              "      <td>152</td>\n",
              "      <td>[u'Christian Bale', u'Heath Ledger', u'Aaron E...</td>\n",
              "    </tr>\n",
              "    <tr>\n",
              "      <th>4</th>\n",
              "      <td>8.9</td>\n",
              "      <td>Pulp Fiction</td>\n",
              "      <td>R</td>\n",
              "      <td>Crime</td>\n",
              "      <td>154</td>\n",
              "      <td>[u'John Travolta', u'Uma Thurman', u'Samuel L....</td>\n",
              "    </tr>\n",
              "  </tbody>\n",
              "</table>\n",
              "</div>"
            ],
            "text/plain": [
              "   star_rating  ...                                        actors_list\n",
              "0          9.3  ...  [u'Tim Robbins', u'Morgan Freeman', u'Bob Gunt...\n",
              "1          9.2  ...    [u'Marlon Brando', u'Al Pacino', u'James Caan']\n",
              "2          9.1  ...  [u'Al Pacino', u'Robert De Niro', u'Robert Duv...\n",
              "3          9.0  ...  [u'Christian Bale', u'Heath Ledger', u'Aaron E...\n",
              "4          8.9  ...  [u'John Travolta', u'Uma Thurman', u'Samuel L....\n",
              "\n",
              "[5 rows x 6 columns]"
            ]
          },
          "metadata": {
            "tags": []
          },
          "execution_count": 18
        }
      ]
    },
    {
      "cell_type": "code",
      "metadata": {
        "id": "iqRJmEwIaQ2g"
      },
      "source": [
        "data=pd.read_csv(\"https://bit.ly/imdbratings\",nrows=50,usecols=[1,2,3])"
      ],
      "execution_count": null,
      "outputs": []
    },
    {
      "cell_type": "code",
      "metadata": {
        "id": "xYqyW3dxan5Y",
        "colab": {
          "base_uri": "https://localhost:8080/",
          "height": 34
        },
        "outputId": "c68f706c-2a62-4d79-eebf-7d69256c60d1"
      },
      "source": [
        "data.shape"
      ],
      "execution_count": null,
      "outputs": [
        {
          "output_type": "execute_result",
          "data": {
            "text/plain": [
              "(50, 3)"
            ]
          },
          "metadata": {
            "tags": []
          },
          "execution_count": 20
        }
      ]
    },
    {
      "cell_type": "code",
      "metadata": {
        "id": "PuUnIN_WatfY",
        "colab": {
          "base_uri": "https://localhost:8080/",
          "height": 34
        },
        "outputId": "0c973c5f-963e-4cbb-dcd9-a67e3bab010e"
      },
      "source": [
        "data.columns"
      ],
      "execution_count": null,
      "outputs": [
        {
          "output_type": "execute_result",
          "data": {
            "text/plain": [
              "Index(['title', 'content_rating', 'genre'], dtype='object')"
            ]
          },
          "metadata": {
            "tags": []
          },
          "execution_count": 21
        }
      ]
    },
    {
      "cell_type": "code",
      "metadata": {
        "id": "-TZWdxjFcti0"
      },
      "source": [
        "data=pd.read_csv(\"https://bit.ly/imdbratings\")"
      ],
      "execution_count": null,
      "outputs": []
    },
    {
      "cell_type": "code",
      "metadata": {
        "id": "OXjvFGwCdTKD",
        "colab": {
          "base_uri": "https://localhost:8080/",
          "height": 204
        },
        "outputId": "0c716749-252c-4d62-d54d-ddefe0e154bd"
      },
      "source": [
        "data.head()"
      ],
      "execution_count": null,
      "outputs": [
        {
          "output_type": "execute_result",
          "data": {
            "text/html": [
              "<div>\n",
              "<style scoped>\n",
              "    .dataframe tbody tr th:only-of-type {\n",
              "        vertical-align: middle;\n",
              "    }\n",
              "\n",
              "    .dataframe tbody tr th {\n",
              "        vertical-align: top;\n",
              "    }\n",
              "\n",
              "    .dataframe thead th {\n",
              "        text-align: right;\n",
              "    }\n",
              "</style>\n",
              "<table border=\"1\" class=\"dataframe\">\n",
              "  <thead>\n",
              "    <tr style=\"text-align: right;\">\n",
              "      <th></th>\n",
              "      <th>star_rating</th>\n",
              "      <th>title</th>\n",
              "      <th>content_rating</th>\n",
              "      <th>genre</th>\n",
              "      <th>duration</th>\n",
              "      <th>actors_list</th>\n",
              "    </tr>\n",
              "  </thead>\n",
              "  <tbody>\n",
              "    <tr>\n",
              "      <th>0</th>\n",
              "      <td>9.3</td>\n",
              "      <td>The Shawshank Redemption</td>\n",
              "      <td>R</td>\n",
              "      <td>Crime</td>\n",
              "      <td>142</td>\n",
              "      <td>[u'Tim Robbins', u'Morgan Freeman', u'Bob Gunt...</td>\n",
              "    </tr>\n",
              "    <tr>\n",
              "      <th>1</th>\n",
              "      <td>9.2</td>\n",
              "      <td>The Godfather</td>\n",
              "      <td>R</td>\n",
              "      <td>Crime</td>\n",
              "      <td>175</td>\n",
              "      <td>[u'Marlon Brando', u'Al Pacino', u'James Caan']</td>\n",
              "    </tr>\n",
              "    <tr>\n",
              "      <th>2</th>\n",
              "      <td>9.1</td>\n",
              "      <td>The Godfather: Part II</td>\n",
              "      <td>R</td>\n",
              "      <td>Crime</td>\n",
              "      <td>200</td>\n",
              "      <td>[u'Al Pacino', u'Robert De Niro', u'Robert Duv...</td>\n",
              "    </tr>\n",
              "    <tr>\n",
              "      <th>3</th>\n",
              "      <td>9.0</td>\n",
              "      <td>The Dark Knight</td>\n",
              "      <td>PG-13</td>\n",
              "      <td>Action</td>\n",
              "      <td>152</td>\n",
              "      <td>[u'Christian Bale', u'Heath Ledger', u'Aaron E...</td>\n",
              "    </tr>\n",
              "    <tr>\n",
              "      <th>4</th>\n",
              "      <td>8.9</td>\n",
              "      <td>Pulp Fiction</td>\n",
              "      <td>R</td>\n",
              "      <td>Crime</td>\n",
              "      <td>154</td>\n",
              "      <td>[u'John Travolta', u'Uma Thurman', u'Samuel L....</td>\n",
              "    </tr>\n",
              "  </tbody>\n",
              "</table>\n",
              "</div>"
            ],
            "text/plain": [
              "   star_rating  ...                                        actors_list\n",
              "0          9.3  ...  [u'Tim Robbins', u'Morgan Freeman', u'Bob Gunt...\n",
              "1          9.2  ...    [u'Marlon Brando', u'Al Pacino', u'James Caan']\n",
              "2          9.1  ...  [u'Al Pacino', u'Robert De Niro', u'Robert Duv...\n",
              "3          9.0  ...  [u'Christian Bale', u'Heath Ledger', u'Aaron E...\n",
              "4          8.9  ...  [u'John Travolta', u'Uma Thurman', u'Samuel L....\n",
              "\n",
              "[5 rows x 6 columns]"
            ]
          },
          "metadata": {
            "tags": []
          },
          "execution_count": 23
        }
      ]
    },
    {
      "cell_type": "code",
      "metadata": {
        "id": "q7xH2t0Vep13",
        "colab": {
          "base_uri": "https://localhost:8080/",
          "height": 221
        },
        "outputId": "e8090baf-f1df-4aff-b1e7-db744b82c964"
      },
      "source": [
        "data.duration"
      ],
      "execution_count": null,
      "outputs": [
        {
          "output_type": "execute_result",
          "data": {
            "text/plain": [
              "0      142\n",
              "1      175\n",
              "2      200\n",
              "3      152\n",
              "4      154\n",
              "      ... \n",
              "974    116\n",
              "975    118\n",
              "976    138\n",
              "977    114\n",
              "978    126\n",
              "Name: duration, Length: 979, dtype: int64"
            ]
          },
          "metadata": {
            "tags": []
          },
          "execution_count": 24
        }
      ]
    },
    {
      "cell_type": "code",
      "metadata": {
        "id": "7BnRoaOueuLx",
        "colab": {
          "base_uri": "https://localhost:8080/",
          "height": 221
        },
        "outputId": "8e9b5509-87b7-4464-9b79-cf62c75c4cf1"
      },
      "source": [
        "data['duration']"
      ],
      "execution_count": null,
      "outputs": [
        {
          "output_type": "execute_result",
          "data": {
            "text/plain": [
              "0      142\n",
              "1      175\n",
              "2      200\n",
              "3      152\n",
              "4      154\n",
              "      ... \n",
              "974    116\n",
              "975    118\n",
              "976    138\n",
              "977    114\n",
              "978    126\n",
              "Name: duration, Length: 979, dtype: int64"
            ]
          },
          "metadata": {
            "tags": []
          },
          "execution_count": 25
        }
      ]
    },
    {
      "cell_type": "code",
      "metadata": {
        "id": "ioZO2vNMe0k9",
        "colab": {
          "base_uri": "https://localhost:8080/",
          "height": 390
        },
        "outputId": "f9593d9f-196b-460e-cd06-8058dba98489"
      },
      "source": [
        "data[data.duration>200]"
      ],
      "execution_count": null,
      "outputs": [
        {
          "output_type": "execute_result",
          "data": {
            "text/html": [
              "<div>\n",
              "<style scoped>\n",
              "    .dataframe tbody tr th:only-of-type {\n",
              "        vertical-align: middle;\n",
              "    }\n",
              "\n",
              "    .dataframe tbody tr th {\n",
              "        vertical-align: top;\n",
              "    }\n",
              "\n",
              "    .dataframe thead th {\n",
              "        text-align: right;\n",
              "    }\n",
              "</style>\n",
              "<table border=\"1\" class=\"dataframe\">\n",
              "  <thead>\n",
              "    <tr style=\"text-align: right;\">\n",
              "      <th></th>\n",
              "      <th>star_rating</th>\n",
              "      <th>title</th>\n",
              "      <th>content_rating</th>\n",
              "      <th>genre</th>\n",
              "      <th>duration</th>\n",
              "      <th>actors_list</th>\n",
              "    </tr>\n",
              "  </thead>\n",
              "  <tbody>\n",
              "    <tr>\n",
              "      <th>7</th>\n",
              "      <td>8.9</td>\n",
              "      <td>The Lord of the Rings: The Return of the King</td>\n",
              "      <td>PG-13</td>\n",
              "      <td>Adventure</td>\n",
              "      <td>201</td>\n",
              "      <td>[u'Elijah Wood', u'Viggo Mortensen', u'Ian McK...</td>\n",
              "    </tr>\n",
              "    <tr>\n",
              "      <th>17</th>\n",
              "      <td>8.7</td>\n",
              "      <td>Seven Samurai</td>\n",
              "      <td>UNRATED</td>\n",
              "      <td>Drama</td>\n",
              "      <td>207</td>\n",
              "      <td>[u'Toshir\\xf4 Mifune', u'Takashi Shimura', u'K...</td>\n",
              "    </tr>\n",
              "    <tr>\n",
              "      <th>78</th>\n",
              "      <td>8.4</td>\n",
              "      <td>Once Upon a Time in America</td>\n",
              "      <td>R</td>\n",
              "      <td>Crime</td>\n",
              "      <td>229</td>\n",
              "      <td>[u'Robert De Niro', u'James Woods', u'Elizabet...</td>\n",
              "    </tr>\n",
              "    <tr>\n",
              "      <th>85</th>\n",
              "      <td>8.4</td>\n",
              "      <td>Lawrence of Arabia</td>\n",
              "      <td>PG</td>\n",
              "      <td>Adventure</td>\n",
              "      <td>216</td>\n",
              "      <td>[u\"Peter O'Toole\", u'Alec Guinness', u'Anthony...</td>\n",
              "    </tr>\n",
              "    <tr>\n",
              "      <th>142</th>\n",
              "      <td>8.3</td>\n",
              "      <td>Lagaan: Once Upon a Time in India</td>\n",
              "      <td>PG</td>\n",
              "      <td>Adventure</td>\n",
              "      <td>224</td>\n",
              "      <td>[u'Aamir Khan', u'Gracy Singh', u'Rachel Shell...</td>\n",
              "    </tr>\n",
              "    <tr>\n",
              "      <th>157</th>\n",
              "      <td>8.2</td>\n",
              "      <td>Gone with the Wind</td>\n",
              "      <td>G</td>\n",
              "      <td>Drama</td>\n",
              "      <td>238</td>\n",
              "      <td>[u'Clark Gable', u'Vivien Leigh', u'Thomas Mit...</td>\n",
              "    </tr>\n",
              "    <tr>\n",
              "      <th>204</th>\n",
              "      <td>8.1</td>\n",
              "      <td>Ben-Hur</td>\n",
              "      <td>G</td>\n",
              "      <td>Adventure</td>\n",
              "      <td>212</td>\n",
              "      <td>[u'Charlton Heston', u'Jack Hawkins', u'Stephe...</td>\n",
              "    </tr>\n",
              "    <tr>\n",
              "      <th>445</th>\n",
              "      <td>7.9</td>\n",
              "      <td>The Ten Commandments</td>\n",
              "      <td>APPROVED</td>\n",
              "      <td>Adventure</td>\n",
              "      <td>220</td>\n",
              "      <td>[u'Charlton Heston', u'Yul Brynner', u'Anne Ba...</td>\n",
              "    </tr>\n",
              "    <tr>\n",
              "      <th>476</th>\n",
              "      <td>7.8</td>\n",
              "      <td>Hamlet</td>\n",
              "      <td>PG-13</td>\n",
              "      <td>Drama</td>\n",
              "      <td>242</td>\n",
              "      <td>[u'Kenneth Branagh', u'Julie Christie', u'Dere...</td>\n",
              "    </tr>\n",
              "    <tr>\n",
              "      <th>630</th>\n",
              "      <td>7.7</td>\n",
              "      <td>Malcolm X</td>\n",
              "      <td>PG-13</td>\n",
              "      <td>Biography</td>\n",
              "      <td>202</td>\n",
              "      <td>[u'Denzel Washington', u'Angela Bassett', u'De...</td>\n",
              "    </tr>\n",
              "    <tr>\n",
              "      <th>767</th>\n",
              "      <td>7.6</td>\n",
              "      <td>It's a Mad, Mad, Mad, Mad World</td>\n",
              "      <td>APPROVED</td>\n",
              "      <td>Action</td>\n",
              "      <td>205</td>\n",
              "      <td>[u'Spencer Tracy', u'Milton Berle', u'Ethel Me...</td>\n",
              "    </tr>\n",
              "  </tbody>\n",
              "</table>\n",
              "</div>"
            ],
            "text/plain": [
              "     star_rating  ...                                        actors_list\n",
              "7            8.9  ...  [u'Elijah Wood', u'Viggo Mortensen', u'Ian McK...\n",
              "17           8.7  ...  [u'Toshir\\xf4 Mifune', u'Takashi Shimura', u'K...\n",
              "78           8.4  ...  [u'Robert De Niro', u'James Woods', u'Elizabet...\n",
              "85           8.4  ...  [u\"Peter O'Toole\", u'Alec Guinness', u'Anthony...\n",
              "142          8.3  ...  [u'Aamir Khan', u'Gracy Singh', u'Rachel Shell...\n",
              "157          8.2  ...  [u'Clark Gable', u'Vivien Leigh', u'Thomas Mit...\n",
              "204          8.1  ...  [u'Charlton Heston', u'Jack Hawkins', u'Stephe...\n",
              "445          7.9  ...  [u'Charlton Heston', u'Yul Brynner', u'Anne Ba...\n",
              "476          7.8  ...  [u'Kenneth Branagh', u'Julie Christie', u'Dere...\n",
              "630          7.7  ...  [u'Denzel Washington', u'Angela Bassett', u'De...\n",
              "767          7.6  ...  [u'Spencer Tracy', u'Milton Berle', u'Ethel Me...\n",
              "\n",
              "[11 rows x 6 columns]"
            ]
          },
          "metadata": {
            "tags": []
          },
          "execution_count": 26
        }
      ]
    },
    {
      "cell_type": "code",
      "metadata": {
        "id": "sApPQQeTe8UK",
        "colab": {
          "base_uri": "https://localhost:8080/",
          "height": 1000
        },
        "outputId": "240d4c34-d887-4cd8-ceb3-0430cd99b8be"
      },
      "source": [
        "data.title.unique()"
      ],
      "execution_count": null,
      "outputs": [
        {
          "output_type": "execute_result",
          "data": {
            "text/plain": [
              "array(['The Shawshank Redemption', 'The Godfather',\n",
              "       'The Godfather: Part II', 'The Dark Knight', 'Pulp Fiction',\n",
              "       '12 Angry Men', 'The Good, the Bad and the Ugly',\n",
              "       'The Lord of the Rings: The Return of the King',\n",
              "       \"Schindler's List\", 'Fight Club',\n",
              "       'The Lord of the Rings: The Fellowship of the Ring', 'Inception',\n",
              "       'Star Wars: Episode V - The Empire Strikes Back', 'Forrest Gump',\n",
              "       'The Lord of the Rings: The Two Towers', 'Interstellar',\n",
              "       \"One Flew Over the Cuckoo's Nest\", 'Seven Samurai', 'Goodfellas',\n",
              "       'Star Wars', 'The Matrix', 'City of God', \"It's a Wonderful Life\",\n",
              "       'The Usual Suspects', 'Se7en', 'Life Is Beautiful',\n",
              "       'Once Upon a Time in the West', 'The Silence of the Lambs',\n",
              "       'Leon: The Professional', 'City Lights', 'Spirited Away',\n",
              "       'The Intouchables', 'Casablanca', 'Whiplash', 'American History X',\n",
              "       'Modern Times', 'Saving Private Ryan', 'Raiders of the Lost Ark',\n",
              "       'Rear Window', 'Psycho', 'The Green Mile', 'Sunset Blvd.',\n",
              "       'The Pianist', 'The Dark Knight Rises', 'Gladiator',\n",
              "       'Terminator 2: Judgment Day', 'Memento', 'Taare Zameen Par',\n",
              "       'Dr. Strangelove or: How I Learned to Stop Worrying and Love the Bomb',\n",
              "       'The Departed', 'Cinema Paradiso', 'Apocalypse Now',\n",
              "       'The Great Dictator', 'The Prestige', 'Back to the Future',\n",
              "       'The Lion King', 'The Lives of Others', 'Alien', 'Paths of Glory',\n",
              "       'Django Unchained', '3 Idiots', 'Grave of the Fireflies',\n",
              "       'The Shining', 'M', 'WALL-E', 'Witness for the Prosecution',\n",
              "       'Munna Bhai M.B.B.S.', 'American Beauty', 'Das Boot',\n",
              "       'Princess Mononoke', 'Amelie', 'North by Northwest',\n",
              "       'Rang De Basanti', 'Jodaeiye Nader az Simin', 'Citizen Kane',\n",
              "       'Aliens', 'Vertigo', 'Oldeuboi', 'Once Upon a Time in America',\n",
              "       'Double Indemnity', 'Star Wars: Episode VI - Return of the Jedi',\n",
              "       'Toy Story 3', 'Braveheart', 'To Kill a Mockingbird',\n",
              "       'Requiem for a Dream', 'Lawrence of Arabia', 'A Clockwork Orange',\n",
              "       'Bicycle Thieves', 'The Kid', 'Swades', 'Reservoir Dogs',\n",
              "       'Eternal Sunshine of the Spotless Mind', 'Taxi Driver',\n",
              "       'Dilwale Dulhania Le Jayenge', \"Singin' in the Rain\",\n",
              "       'All About Eve', 'Yojimbo', 'The Sting', 'Rashomon', 'Amadeus',\n",
              "       'The Treasure of the Sierra Madre',\n",
              "       'Monty Python and the Holy Grail', 'Full Metal Jacket',\n",
              "       'The Apartment', 'Ikiru', 'The Third Man', 'Snatch.',\n",
              "       'For a Few Dollars More', 'Metropolis', 'Dil Chahta Hai',\n",
              "       '2001: A Space Odyssey', 'Some Like It Hot', 'L.A. Confidential',\n",
              "       'Batman Begins', 'Inglourious Basterds', 'Scarface',\n",
              "       'Mr. Smith Goes to Washington', 'Toy Story',\n",
              "       'Indiana Jones and the Last Crusade', 'Unforgiven',\n",
              "       'The Great Escape', 'Jagten', 'On the Waterfront', 'The General',\n",
              "       'Raging Bull', 'Downfall', 'Up', 'Wild Strawberries',\n",
              "       'The Gold Rush', 'Ran', 'Chinatown', 'My Neighbor Totoro',\n",
              "       'Judgment at Nuremberg', 'Barfi!', 'The Seventh Seal', 'Heat',\n",
              "       \"Pan's Labyrinth\", 'The Bridge on the River Kwai', 'Die Hard',\n",
              "       'Good Will Hunting', 'The Wages of Fear',\n",
              "       'The Secret in Their Eyes', 'Lagaan: Once Upon a Time in India',\n",
              "       'The Wolf of Wall Street', 'It Happened One Night', 'Blade Runner',\n",
              "       'Warrior', \"Howl's Moving Castle\", 'The Elephant Man', 'Rebecca',\n",
              "       'Incendies', 'Lock, Stock and Two Smoking Barrels',\n",
              "       'V for Vendetta', 'The Big Lebowski', 'Cool Hand Luke',\n",
              "       'Relatos salvajes', 'Casino', 'Gone with the Wind', 'Gone Girl',\n",
              "       'The Best Years of Our Lives', 'How to Train Your Dragon',\n",
              "       'Diabolique', 'Gran Torino', 'Rush', 'Into the Wild',\n",
              "       'My Sassy Girl', 'The Deer Hunter', 'Mary and Max',\n",
              "       \"Hachi: A Dog's Tale\", 'The Maltese Falcon', 'A Beautiful Mind',\n",
              "       'Dial M for Murder', 'Trainspotting',\n",
              "       'Tae Guk Gi: The Brotherhood of War', 'Persona', 'Touch of Evil',\n",
              "       'Fargo', 'The Avengers', 'The 400 Blows', 'The Princess Bride',\n",
              "       'Hotel Rwanda', 'Stalker', 'The Battle of Algiers', 'Underground',\n",
              "       'Fanny and Alexander', 'Network', 'The Thing',\n",
              "       'Butch Cassidy and the Sundance Kid', 'The Grapes of Wrath',\n",
              "       'Black Cat, White Cat', 'Life of Brian', 'The Sixth Sense',\n",
              "       'Finding Nemo', 'Nausicaa of the Valley of the Wind',\n",
              "       'Kingsman: The Secret Service', 'Platoon',\n",
              "       'Guardians of the Galaxy', 'In the Name of the Father',\n",
              "       'Kill Bill: Vol. 1', 'No Country for Old Men', 'Le Samourai',\n",
              "       '12 Years a Slave', \"La leggenda del pianista sull'oceano\",\n",
              "       '8 1/2', 'Ben-Hur', 'Amores Perros', 'Stand by Me',\n",
              "       'What Ever Happened to Baby Jane?', 'Annie Hall',\n",
              "       'The Imitation Game', 'Laura', 'Departures', 'Infernal Affairs',\n",
              "       'There Will Be Blood', 'The Grand Budapest Hotel', 'La Strada',\n",
              "       'Sin City', 'Memories of Murder', 'Donnie Darko',\n",
              "       \"Who's Afraid of Virginia Woolf?\", 'Gandhi', 'Solaris',\n",
              "       'Harry Potter and the Deathly Hallows: Part 2', 'Paris, Texas',\n",
              "       'The Wizard of Oz', '3-Iron', 'Boyhood', 'Million Dollar Baby',\n",
              "       'The Last Picture Show', 'Strangers on a Train',\n",
              "       'Cat on a Hot Tin Roof', 'La Dolce Vita', 'Chungking Express',\n",
              "       'The Night of the Hunter', 'La Haine', 'Yip Man', 'High Noon',\n",
              "       'Notorious', 'Before Sunrise', 'Elite Squad: The Enemy Within',\n",
              "       'The Bourne Ultimatum', 'Castle in the Sky', 'The Celebration',\n",
              "       'Spring, Summer, Fall, Winter... and Spring', 'Shutter Island',\n",
              "       'Barry Lyndon', 'Stalag 17', 'Three Colors: Red',\n",
              "       'X-Men: Days of Future Past', 'Sleuth', 'In the Mood for Love',\n",
              "       'The Man Who Shot Liberty Valance', 'Arsenic and Old Lace',\n",
              "       'The Big Sleep', 'Roman Holiday', 'The Philadelphia Story',\n",
              "       'Akira', 'Anatomy of a Murder', 'The Cabinet of Dr. Caligari',\n",
              "       'The Help', 'The Sea Inside', 'Elite Squad', 'The Hustler',\n",
              "       'Rio Bravo', 'Twelve Monkeys', 'Harvey', 'A Christmas Story',\n",
              "       'Jaws', 'The Raid 2', 'Rocky', 'Wings of Desire',\n",
              "       'Pirates of the Caribbean: The Curse of the Black Pearl',\n",
              "       'The Killing', 'Papillon', \"The King's Speech\", 'Groundhog Day',\n",
              "       'A Fistful of Dollars', 'Monsters, Inc.', 'Dog Day Afternoon',\n",
              "       'The Perks of Being a Wallflower', 'Young Frankenstein',\n",
              "       'The Terminator', 'Harold and Maude', 'Before Sunset',\n",
              "       'A Streetcar Named Desire', 'Bringing Up Baby',\n",
              "       'The Diving Bell and the Butterfly', 'His Girl Friday',\n",
              "       'Sling Blade', 'All Quiet on the Western Front', 'Prisoners',\n",
              "       'The Return', 'The Manchurian Candidate', 'Duck Soup',\n",
              "       'Beauty and the Beast', 'The Truman Show', 'The Wild Bunch',\n",
              "       'Rope', 'The Graduate', 'Jurassic Park', 'Dogville', 'Furious 7',\n",
              "       'Patton', 'The Nightmare Before Christmas', 'Being There',\n",
              "       'Persepolis', 'This Is Spinal Tap', 'East of Eden',\n",
              "       'Pink Floyd The Wall', 'Blood Diamond', 'Big Fish',\n",
              "       'Slumdog Millionaire', 'Star Trek', 'The Straight Story',\n",
              "       'Crimes and Misdemeanors', 'Charade', 'JFK', 'Dawn of the Dead',\n",
              "       'Magnolia', 'Manhattan', 'Central Station', 'Brazil',\n",
              "       'The Exorcist', 'Her', 'Dancer in the Dark', 'Rain Man',\n",
              "       'Talk to Her', 'The Adventures of Robin Hood',\n",
              "       'Aguirre, the Wrath of God', 'In the Heat of the Night',\n",
              "       'Nosferatu', 'Black Swan', 'Ratatouille', 'The Searchers',\n",
              "       'Short Term 12', 'Doctor Zhivago', 'Life of Pi',\n",
              "       \"All the President's Men\", 'Battleship Potemkin',\n",
              "       'Dances with Wolves', 'Catch Me If You Can', 'Cinderella Man',\n",
              "       'Dead Poets Society', 'Ghost in the Shell', 'Head-On',\n",
              "       \"No Man's Land\", 'Dallas Buyers Club', 'Days of Heaven',\n",
              "       'The Sound of Music', 'District 9', 'Shadow of a Doubt',\n",
              "       'Frankenstein', 'Shaun of the Dead', 'Night of the Living Dead',\n",
              "       'Kill Bill: Vol. 2', 'Secrets & Lies', 'The Artist', 'Aladdin',\n",
              "       'The Lady Vanishes', 'The Hobbit: The Desolation of Smaug',\n",
              "       'Let the Right One In', 'Fiddler on the Roof',\n",
              "       'The Hobbit: An Unexpected Journey', 'Three Colors: Blue',\n",
              "       \"Rosemary's Baby\", 'Mystic River', 'Serenity', 'Amarcord',\n",
              "       'Planet of the Apes', 'True Romance', 'Hannah and Her Sisters',\n",
              "       'Moon', 'Before Midnight', 'My Name Is Khan', 'Scent of a Woman',\n",
              "       'Mulholland Dr.', 'King Kong', 'The Fault in Our Stars',\n",
              "       'The Incredibles', 'Edward Scissorhands', 'Casino Royale',\n",
              "       'How to Train Your Dragon 2', 'In Bruges', 'The Untouchables',\n",
              "       'Breathless', 'Spartacus', 'The Iron Giant', 'Midnight Cowboy',\n",
              "       'The Blues Brothers', 'Freaks', 'Letters from Iwo Jima',\n",
              "       'Edge of Tomorrow', 'Glory', 'The African Queen',\n",
              "       'Birdman: Or (The Unexpected Virtue of Ignorance)', 'Big Hero 6',\n",
              "       'Almost Famous', 'The Notebook', 'The Conversation',\n",
              "       'The Breakfast Club', 'The Pursuit of Happyness', 'The Killer',\n",
              "       'Once', 'Ying xiong', 'The Remains of the Day',\n",
              "       'The Bride of Frankenstein', 'The Wrestler', 'Nightcrawler',\n",
              "       'Gravity', 'Hard Boiled', 'Bonnie and Clyde',\n",
              "       'The Bourne Identity', 'Key Largo', 'Nine Queens', 'Toy Story 2',\n",
              "       'The Killing Fields', 'All About My Mother',\n",
              "       'Cowboy Bebop: The Movie', 'Ed Wood', 'Stagecoach',\n",
              "       'The Man Who Would Be King', 'The Outlaw Josey Wales',\n",
              "       'Children of Men', 'The Insider', 'The Right Stuff', 'Badlands',\n",
              "       'A Prophet', '4 Months, 3 Weeks and 2 Days', 'Le passe',\n",
              "       'The Fall', 'Breaking the Waves', 'Mr. Nobody', 'Crash', 'Avatar',\n",
              "       'Iron Man', 'Do the Right Thing', \"Carlito's Way\",\n",
              "       'Crouching Tiger, Hidden Dragon', 'Lilya 4-Ever', 'The Chorus',\n",
              "       'The Boondock Saints', \"Miller's Crossing\", 'Walk the Line',\n",
              "       'Shrek', 'My Fair Lady', 'The Ten Commandments', 'The Fighter',\n",
              "       'Captain Phillips', 'Cabaret', 'Halloween', 'My Left Foot',\n",
              "       'Miracle on 34th Street', 'The Man from Nowhere',\n",
              "       'Toki o kakeru shojo', 'Little Miss Sunshine', 'Taken',\n",
              "       'Blue Is the Warmest Color', 'Boogie Nights', 'Hot Fuzz',\n",
              "       \"Ferris Bueller's Day Off\", \"The World's Fastest Indian\",\n",
              "       \"Kiki's Delivery Service\", 'Down by Law', 'Glengarry Glen Ross',\n",
              "       'Clerks', \"Adam's Apples\", 'The Girl with the Dragon Tattoo',\n",
              "       'The 39 Steps', 'E.T. the Extra-Terrestrial', 'Tombstone',\n",
              "       'Predator', 'Tangled', \"Guess Who's Coming to Dinner\",\n",
              "       'Ordinary People', 'The Best Offer', 'Silver Linings Playbook',\n",
              "       'Hamlet', 'Amour', 'I Saw the Devil', 'The Motorcycle Diaries',\n",
              "       'Office Space', 'Evil', 'Withnail & I',\n",
              "       'The Day the Earth Stood Still', 'Black Book', 'Evil Dead II',\n",
              "       'Kaze tachinu', 'Star Trek Into Darkness',\n",
              "       'The Triplets of Belleville', 'Open Your Eyes',\n",
              "       'The Magnificent Seven', 'Drive', 'Mississippi Burning',\n",
              "       'The Lego Movie', 'The Day of the Jackal', 'Misery',\n",
              "       'Willy Wonka & the Chocolate Factory', 'Fantasia', 'Gattaca',\n",
              "       'American Gangster', 'Porco Rosso', 'The French Connection',\n",
              "       'The Boy in the Striped Pajamas', 'Empire of the Sun',\n",
              "       'About Time', 'Blue Velvet', 'In America',\n",
              "       'The Curious Case of Benjamin Button', 'The Last of the Mohicans',\n",
              "       'Moonrise Kingdom', 'Rebel Without a Cause', 'Fantastic Mr. Fox',\n",
              "       'Invasion of the Body Snatchers', 'October Sky', 'Dirty Harry',\n",
              "       'Ghostbusters', 'Captain America: The Winter Soldier',\n",
              "       'Wreck-It Ralph', 'The Hangover', 'Back to the Future Part II',\n",
              "       'Belle de Jour', 'O Brother, Where Art Thou?', 'Repulsion',\n",
              "       'Airplane!', 'Pride & Prejudice', 'Zulu', 'Night on Earth',\n",
              "       'From Here to Eternity', 'Apocalypto', 'Atonement',\n",
              "       'The Dirty Dozen', 'X-Men: First Class', 'Run Lola Run',\n",
              "       'The Longest Day', 'Zelig', 'The Last Emperor', 'The Goonies',\n",
              "       'The White Ribbon', 'The Fugitive', 'The Color Purple',\n",
              "       'South Park: Bigger Longer & Uncut', '(500) Days of Summer',\n",
              "       'Lost in Translation', 'Argo', 'Blazing Saddles',\n",
              "       \"Breakfast at Tiffany's\", 'Finding Neverland', 'The Experiment',\n",
              "       'Lucky Number Slevin', 'The Theory of Everything',\n",
              "       'Harry Potter and the Prisoner of Azkaban', 'Kung Fu Hustle',\n",
              "       'Being John Malkovich', 'The Social Network', '3:10 to Yuma',\n",
              "       'The Name of the Rose', 'Mary Poppins', 'The Game', 'Changeling',\n",
              "       'Donnie Brasco', 'Serpico', \"What's Eating Gilbert Grape\",\n",
              "       'Goldfinger', 'Nebraska', 'The Sandlot', 'Boyz n the Hood',\n",
              "       'The Bourne Supremacy', 'Skyfall', 'Ray', '300', 'A Bronx Tale',\n",
              "       'The Birds', 'Battle Royale', 'Control', 'Kramer vs. Kramer',\n",
              "       'Deliverance', \"Ocean's Eleven\", 'As Good as It Gets',\n",
              "       'Awakenings', 'The King of Comedy', 'Man on Fire', 'Sabrina',\n",
              "       'Dark City', 'Good Bye Lenin!', 'Remember the Titans',\n",
              "       'Star Trek II: The Wrath of Khan', 'Road to Perdition', 'Rushmore',\n",
              "       'The Machinist', 'Flipped', 'The Count of Monte Cristo',\n",
              "       'Detachment', 'Love Me If You Dare', 'Dead Man',\n",
              "       'The Purple Rose of Cairo', '21 Grams', '50/50', 'Kick-Ass',\n",
              "       'Delicatessen', 'Barton Fink', 'The Last King of Scotland',\n",
              "       'Adaptation.', 'A Very Long Engagement', 'Mysterious Skin',\n",
              "       'Stardust', 'Black Hawk Down', 'Paprika',\n",
              "       'Fear and Loathing in Las Vegas', 'Frost/Nixon',\n",
              "       'Enter the Dragon', 'Short Cuts', \"A Hard Day's Night\",\n",
              "       'The Last Samurai', 'The Station Agent', 'Zombieland',\n",
              "       'Sympathy for Mr. Vengeance', 'Despicable Me', 'Shane',\n",
              "       'Forbidden Planet', 'Titanic', 'Gone Baby Gone', 'The Dinner Game',\n",
              "       'Dawn of the Planet of the Apes', '25th Hour', 'Ponyo', 'Shine',\n",
              "       'The Blind Side', 'Brokeback Mountain', 'Cast Away', 'Malcolm X',\n",
              "       'Show Me Love', 'Boy A', 'The Warriors',\n",
              "       'Close Encounters of the Third Kind', 'Match Point',\n",
              "       'Training Day', 'The Butterfly Effect',\n",
              "       'The City of Lost Children', 'Billy Elliot', 'Love Actually',\n",
              "       'The Producers', 'Harry Potter and the Deathly Hallows: Part 1',\n",
              "       'The Visitor', 'Philadelphia', 'Sense and Sensibility',\n",
              "       'Three Colors: White', 'La grande bellezza', 'Primal Fear',\n",
              "       'Where Eagles Dare', 'Dazed and Confused', 'Blood Simple.',\n",
              "       'This Is England', 'Fearless', 'Dangerous Liaisons', 'Saw',\n",
              "       'Snow White and the Seven Dwarfs', 'Coraline',\n",
              "       'The Hunger Games: Catching Fire', \"Sophie's Choice\",\n",
              "       'La Vie en Rose', 'Star Wars: Episode III - Revenge of the Sith',\n",
              "       'True Grit', 'After Hours', 'Frozen', 'Lolita', 'Eastern Promises',\n",
              "       'Midnight in Paris', 'The Muppet Christmas Carol',\n",
              "       'Who Framed Roger Rabbit', 'Sympathy for Lady Vengeance',\n",
              "       'Grindhouse', 'In a Better World', 'Blow-Up',\n",
              "       'The Secret World of Arrietty', 'Kiss Kiss Bang Bang',\n",
              "       'Lost Highway', 'Zodiac', 'Les Miserables', 'Moulin Rouge!',\n",
              "       'Whale Rider', 'End of Watch', 'Philomena', 'Fury', 'The Big Blue',\n",
              "       'First Blood', 'Minority Report', 'Spellbound', 'The Wicker Man',\n",
              "       'Seven Pounds', 'Midnight Express', \"Kelly's Heroes\", 'MASH',\n",
              "       'The Player', 'Traffic', 'Y Tu Mama Tambien',\n",
              "       'Stranger Than Fiction', 'Inside Man', '127 Hours',\n",
              "       'The Fifth Element', 'Milk', 'United 93', 'Jin ling shi san chai',\n",
              "       'Dracula', 'High Plains Drifter', 'I Am Sam',\n",
              "       'Fried Green Tomatoes', 'Watchmen', '28 Days Later...',\n",
              "       'The Illusionist', 'Superbad', 'The Godfather: Part III',\n",
              "       'The Royal Tenenbaums', 'The Jungle Book', 'Thank You for Smoking',\n",
              "       'Man Bites Dog', 'A Few Good Men', 'The Legend of Drunken Master',\n",
              "       'The Kite Runner', 'When Harry Met Sally...', 'Munich',\n",
              "       'House of Sand and Fog', 'Lethal Weapon', 'Animal House',\n",
              "       'Lord of War', 'Blow', 'Sherlock Holmes',\n",
              "       'Harry Potter and the Goblet of Fire', 'La piel que habito',\n",
              "       'The Crow', 'West Side Story', 'The Thin Red Line',\n",
              "       'American Psycho', 'The Blind Swordsman: Zatoichi',\n",
              "       'The Last Temptation of Christ',\n",
              "       'The Naked Gun: From the Files of Police Squad!', 'The Others',\n",
              "       'The Party', 'Army of Darkness', 'The Hurt Locker',\n",
              "       'The Raid: Redemption', 'Volver', 'Following', 'Kung Fu Panda',\n",
              "       'Mad Max 2: The Road Warrior', 'Jusan-nin no shikaku',\n",
              "       \"The Man Who Wasn't There\", 'The Counterfeiters',\n",
              "       'The Hunt for Red October', 'Lone Survivor', 'A Fish Called Wanda',\n",
              "       'The Impossible', 'Garden State', 'Escape from Alcatraz',\n",
              "       'Apollo 13', 'Lust, Caution', 'Selma', 'Funny Games', 'The Abyss',\n",
              "       'Robin Hood', 'Enemy at the Gates', 'Falling Down',\n",
              "       'Little Children', 'Hunger',\n",
              "       'Indiana Jones and the Temple of Doom', 'Ip Man 2',\n",
              "       'The Little Mermaid', \"It's a Mad, Mad, Mad, Mad World\",\n",
              "       'The Reader', 'The Omen', 'A Royal Affair', 'Braindead',\n",
              "       'Secondhand Lions', 'Disconnect', 'A Single Man', 'Hoosiers',\n",
              "       'Moneyball', 'The Book Thief', 'Die Hard: With a Vengeance',\n",
              "       'Interview with the Vampire: The Vampire Chronicles',\n",
              "       'Midnight Run', 'An American Werewolf in London',\n",
              "       'The Great Debaters', 'Tucker and Dale vs. Evil',\n",
              "       'Dead Man Walking', 'The Piano', 'The Town',\n",
              "       'Rise of the Planet of the Apes', \"Boys Don't Cry\", 'Ice Age',\n",
              "       'Of Mice and Men', 'Sideways', 'High Fidelity',\n",
              "       'The Meaning of Life', 'Hugo', 'Leaving Las Vegas',\n",
              "       'The Evil Dead', 'Collateral', 'Planes, Trains & Automobiles',\n",
              "       'Hodejegerne', 'Field of Dreams', 'Batman', 'Tell No One',\n",
              "       'Ghost Dog: The Way of the Samurai', 'Chaplin', 'Keith', 'Juno',\n",
              "       'The Assassination of Jesse James by the Coward Robert Ford',\n",
              "       'The Fisher King', 'House of Flying Daggers', 'The Hours',\n",
              "       'The Damned United', 'Star Trek: First Contact', 'The Natural',\n",
              "       'The Hobbit: The Battle of the Five Armies', 'Equilibrium',\n",
              "       'August Rush', 'Saving Mr. Banks', 'The Hurricane',\n",
              "       \"Jacob's Ladder\", 'The Curse of the Were-Rabbit',\n",
              "       'Christmas Vacation', 'Good Night, and Good Luck.', 'Straw Dogs',\n",
              "       '42', 'Rudy', 'Sleepers', 'The Wind That Shakes the Barley',\n",
              "       'Gangs of New York', 'Elizabeth', 'Green Street Hooligans',\n",
              "       'Reign Over Me', 'RoboCop', 'The Life of David Gale',\n",
              "       'Life as a House', 'Despicable Me 2', 'Jackie Brown',\n",
              "       'Menace II Society', 'The Class', 'Bullets Over Broadway',\n",
              "       'American Splendor', 'Perfume: The Story of a Murderer',\n",
              "       'Cloud Atlas', 'Marathon Man', 'Pinocchio', 'The Painted Veil',\n",
              "       'A Simple Plan', 'The Conjuring', 'The Man Who Knew Too Much',\n",
              "       'Quiz Show', 'American Graffiti', 'The Bridges of Madison County',\n",
              "       'Gallipoli', \"L'illusionniste\", 'Miracle', 'Maria Full of Grace',\n",
              "       'Scott Pilgrim vs. the World', 'Pleasantville',\n",
              "       'Sherlock Holmes: A Game of Shadows', 'Doubt', 'The Fly',\n",
              "       'The Orphanage', 'Malena', 'Three Days of the Condor', '[Rec]',\n",
              "       'A Perfect World', 'To Catch a Thief', 'Best in Show',\n",
              "       'Everything Is Illuminated', 'A Nightmare on Elm Street',\n",
              "       'The Ice Storm', 'X2', 'We Need to Talk About Kevin', 'Felon',\n",
              "       'Still Alice', 'Rust and Bone', 'Freedom Writers',\n",
              "       'Legends of the Fall', \"Buffalo '66\", 'The Constant Gardener',\n",
              "       'My Cousin Vinny', 'The Texas Chain Saw Massacre', 'Mulan',\n",
              "       'A History of Violence', 'Open Range', 'Total Recall', 'Pi',\n",
              "       \"The Devil's Backbone\", 'The Aviator', \"Devil's Advocate\",\n",
              "       'The Adventures of Priscilla, Queen of the Desert',\n",
              "       'Harry Potter and the Half-Blood Prince', 'Fruitvale Station',\n",
              "       'In the Bedroom', 'Source Code', 'Biutiful',\n",
              "       'From Russia with Love', 'Calvary', 'The Mission', 'In the Loop',\n",
              "       'The Three Burials of Melquiades Estrada', 'Babel', 'Frenzy',\n",
              "       'Heavenly Creatures',\n",
              "       'Sweeney Todd: The Demon Barber of Fleet Street', 'Looper',\n",
              "       'The Proposition', 'Bullitt',\n",
              "       \"Harry Potter and the Sorcerer's Stone\", '2046', 'Transamerica',\n",
              "       'Smoke', 'Suspiria', 'The Judge', 'Bad Education', 'Up in the Air',\n",
              "       'Begin Again', 'Running Scared', 'Ghost World', 'Witness',\n",
              "       'Trading Places', 'Mud', 'Across the Universe',\n",
              "       'Notes on a Scandal', 'Inside Llewyn Davis', 'Brick', 'Clerks II',\n",
              "       'Say Anything...', 'Man on the Moon', 'Mean Streets',\n",
              "       'Harry Potter and the Order of the Phoenix', 'Beetlejuice',\n",
              "       'Crazy, Stupid, Love.', 'Excalibur', 'Labyrinth',\n",
              "       'Alice in Wonderland', 'Predestination', 'Much Ado About Nothing',\n",
              "       'A Bridge Too Far', 'Raising Arizona', 'The Bucket List',\n",
              "       'Terms of Endearment', 'Take Shelter', 'Far from Heaven',\n",
              "       'Eraserhead', 'Frances Ha', 'Home Alone', 'Bound', 'Sleepy Hollow',\n",
              "       'Pirate Radio', 'The NeverEnding Story', 'X-Men',\n",
              "       'Zero Dark Thirty', 'Manhattan Murder Mystery',\n",
              "       \"National Lampoon's Vacation\", \"My Sister's Keeper\",\n",
              "       'Deconstructing Harry', 'The Way Way Back', 'Capote',\n",
              "       'Driving Miss Daisy', 'La Femme Nikita', 'Lincoln', 'Limitless',\n",
              "       'The Simpsons Movie', 'The Rock', 'The English Patient',\n",
              "       'Law Abiding Citizen', 'Wonder Boys', 'Death at a Funeral',\n",
              "       'Blue Valentine', 'The Cider House Rules', 'Tootsie',\n",
              "       'Back to the Future Part III',\n",
              "       'Master and Commander: The Far Side of the World', 'Poltergeist',\n",
              "       'Wall Street'], dtype=object)"
            ]
          },
          "metadata": {
            "tags": []
          },
          "execution_count": 27
        }
      ]
    },
    {
      "cell_type": "code",
      "metadata": {
        "id": "6LD-H8dTtTIn",
        "colab": {
          "base_uri": "https://localhost:8080/",
          "height": 306
        },
        "outputId": "58e88247-ae17-41f0-8461-f2a0294b432a"
      },
      "source": [
        "data.genre.value_counts()"
      ],
      "execution_count": null,
      "outputs": [
        {
          "output_type": "execute_result",
          "data": {
            "text/plain": [
              "Drama        278\n",
              "Comedy       156\n",
              "Action       136\n",
              "Crime        124\n",
              "Biography     77\n",
              "Adventure     75\n",
              "Animation     62\n",
              "Horror        29\n",
              "Mystery       16\n",
              "Western        9\n",
              "Thriller       5\n",
              "Sci-Fi         5\n",
              "Film-Noir      3\n",
              "Family         2\n",
              "History        1\n",
              "Fantasy        1\n",
              "Name: genre, dtype: int64"
            ]
          },
          "metadata": {
            "tags": []
          },
          "execution_count": 29
        }
      ]
    },
    {
      "cell_type": "code",
      "metadata": {
        "id": "SptupfIKtg4F"
      },
      "source": [
        "data=pd.read_csv(\"https://bit.ly/drinksbycountry\")"
      ],
      "execution_count": null,
      "outputs": []
    },
    {
      "cell_type": "code",
      "metadata": {
        "id": "ETQ3cO5Nt6Jc",
        "colab": {
          "base_uri": "https://localhost:8080/",
          "height": 34
        },
        "outputId": "6dd701ed-3e2d-454a-9901-503382cf97a8"
      },
      "source": [
        "data.shape"
      ],
      "execution_count": null,
      "outputs": [
        {
          "output_type": "execute_result",
          "data": {
            "text/plain": [
              "(193, 6)"
            ]
          },
          "metadata": {
            "tags": []
          },
          "execution_count": 31
        }
      ]
    },
    {
      "cell_type": "code",
      "metadata": {
        "id": "r0Qp2bDTt9HC",
        "colab": {
          "base_uri": "https://localhost:8080/",
          "height": 136
        },
        "outputId": "4204367a-86c8-4d65-f763-05aacf8dcf79"
      },
      "source": [
        "data.dtypes"
      ],
      "execution_count": null,
      "outputs": [
        {
          "output_type": "execute_result",
          "data": {
            "text/plain": [
              "country                          object\n",
              "beer_servings                     int64\n",
              "spirit_servings                   int64\n",
              "wine_servings                     int64\n",
              "total_litres_of_pure_alcohol    float64\n",
              "continent                        object\n",
              "dtype: object"
            ]
          },
          "metadata": {
            "tags": []
          },
          "execution_count": 32
        }
      ]
    },
    {
      "cell_type": "code",
      "metadata": {
        "id": "lMH3eycZuEn_",
        "colab": {
          "base_uri": "https://localhost:8080/",
          "height": 68
        },
        "outputId": "3c565a55-1976-4cf7-ab75-ecd958e8d879"
      },
      "source": [
        "data.columns"
      ],
      "execution_count": null,
      "outputs": [
        {
          "output_type": "execute_result",
          "data": {
            "text/plain": [
              "Index(['country', 'beer_servings', 'spirit_servings', 'wine_servings',\n",
              "       'total_litres_of_pure_alcohol', 'continent'],\n",
              "      dtype='object')"
            ]
          },
          "metadata": {
            "tags": []
          },
          "execution_count": 33
        }
      ]
    },
    {
      "cell_type": "code",
      "metadata": {
        "id": "nGeUCqLLuHxh",
        "colab": {
          "base_uri": "https://localhost:8080/",
          "height": 204
        },
        "outputId": "1b27b77f-d56f-41ee-cf08-c137b6df26c5"
      },
      "source": [
        "data.head()"
      ],
      "execution_count": null,
      "outputs": [
        {
          "output_type": "execute_result",
          "data": {
            "text/html": [
              "<div>\n",
              "<style scoped>\n",
              "    .dataframe tbody tr th:only-of-type {\n",
              "        vertical-align: middle;\n",
              "    }\n",
              "\n",
              "    .dataframe tbody tr th {\n",
              "        vertical-align: top;\n",
              "    }\n",
              "\n",
              "    .dataframe thead th {\n",
              "        text-align: right;\n",
              "    }\n",
              "</style>\n",
              "<table border=\"1\" class=\"dataframe\">\n",
              "  <thead>\n",
              "    <tr style=\"text-align: right;\">\n",
              "      <th></th>\n",
              "      <th>country</th>\n",
              "      <th>beer_servings</th>\n",
              "      <th>spirit_servings</th>\n",
              "      <th>wine_servings</th>\n",
              "      <th>total_litres_of_pure_alcohol</th>\n",
              "      <th>continent</th>\n",
              "    </tr>\n",
              "  </thead>\n",
              "  <tbody>\n",
              "    <tr>\n",
              "      <th>0</th>\n",
              "      <td>Afghanistan</td>\n",
              "      <td>0</td>\n",
              "      <td>0</td>\n",
              "      <td>0</td>\n",
              "      <td>0.0</td>\n",
              "      <td>Asia</td>\n",
              "    </tr>\n",
              "    <tr>\n",
              "      <th>1</th>\n",
              "      <td>Albania</td>\n",
              "      <td>89</td>\n",
              "      <td>132</td>\n",
              "      <td>54</td>\n",
              "      <td>4.9</td>\n",
              "      <td>Europe</td>\n",
              "    </tr>\n",
              "    <tr>\n",
              "      <th>2</th>\n",
              "      <td>Algeria</td>\n",
              "      <td>25</td>\n",
              "      <td>0</td>\n",
              "      <td>14</td>\n",
              "      <td>0.7</td>\n",
              "      <td>Africa</td>\n",
              "    </tr>\n",
              "    <tr>\n",
              "      <th>3</th>\n",
              "      <td>Andorra</td>\n",
              "      <td>245</td>\n",
              "      <td>138</td>\n",
              "      <td>312</td>\n",
              "      <td>12.4</td>\n",
              "      <td>Europe</td>\n",
              "    </tr>\n",
              "    <tr>\n",
              "      <th>4</th>\n",
              "      <td>Angola</td>\n",
              "      <td>217</td>\n",
              "      <td>57</td>\n",
              "      <td>45</td>\n",
              "      <td>5.9</td>\n",
              "      <td>Africa</td>\n",
              "    </tr>\n",
              "  </tbody>\n",
              "</table>\n",
              "</div>"
            ],
            "text/plain": [
              "       country  beer_servings  ...  total_litres_of_pure_alcohol  continent\n",
              "0  Afghanistan              0  ...                           0.0       Asia\n",
              "1      Albania             89  ...                           4.9     Europe\n",
              "2      Algeria             25  ...                           0.7     Africa\n",
              "3      Andorra            245  ...                          12.4     Europe\n",
              "4       Angola            217  ...                           5.9     Africa\n",
              "\n",
              "[5 rows x 6 columns]"
            ]
          },
          "metadata": {
            "tags": []
          },
          "execution_count": 34
        }
      ]
    },
    {
      "cell_type": "code",
      "metadata": {
        "id": "XdUUMR2nuLCP"
      },
      "source": [
        "data"
      ],
      "execution_count": null,
      "outputs": []
    }
  ]
}